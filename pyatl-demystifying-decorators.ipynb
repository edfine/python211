{
 "cells": [
  {
   "cell_type": "markdown",
   "metadata": {
    "slideshow": {
     "slide_type": "slide"
    }
   },
   "source": [
    "# Demystifying Decorators\n",
    "\n",
    "## Rick Copeland\n",
    "\n",
    "(and understanding functions and closures just a little bit more)"
   ]
  },
  {
   "cell_type": "markdown",
   "metadata": {
    "slideshow": {
     "slide_type": "slide"
    }
   },
   "source": [
    "# Use Case #1: Aspect-Oriented Programming\n",
    "\n",
    "AKA: \"Doing something before/after a function is called\"\n",
    "\n",
    "## Examples:\n",
    "\n",
    "* In concurrent programming, holding a lock (preventing other threads/processes/coroutines from running the same code at the same time)\n",
    "* Ensuring that the current user/request/etc. has sufficient permissions to do what you're trying to do\n",
    "* Logging, profiling, etc."
   ]
  },
  {
   "cell_type": "markdown",
   "metadata": {
    "slideshow": {
     "slide_type": "slide"
    }
   },
   "source": [
    "# Locking without decorators\n",
    "\n",
    "```python\n",
    "def transfer(amount, account1, account2):\n",
    "    with account_transfers:\n",
    "        if account1.balance > amount:\n",
    "            account1.balance -= amount\n",
    "            account2.balance += amount\n",
    "        else:\n",
    "            raise AccountOverdrawnError()\n",
    "```"
   ]
  },
  {
   "cell_type": "markdown",
   "metadata": {
    "slideshow": {
     "slide_type": "slide"
    }
   },
   "source": [
    "# Locking without decorators (nor `with`)\n",
    "\n",
    "```python\n",
    "def transfer(amount, account1, account2):\n",
    "    account_transfers.acquire()\n",
    "    try:\n",
    "        if account1.balance > amount:\n",
    "            account1.balance -= amount\n",
    "            account2.balance += amount\n",
    "        else:\n",
    "            raise AccountOverdrawnError()\n",
    "    finally:\n",
    "        account_transfers.release()\n",
    "```"
   ]
  },
  {
   "cell_type": "markdown",
   "metadata": {
    "slideshow": {
     "slide_type": "slide"
    }
   },
   "source": [
    "# Access control\n",
    "\n",
    "```python\n",
    "def assert_permission(*permissions):\n",
    "    for permission in permissions:\n",
    "        if not current_user.has_permission(permission):\n",
    "            raise Forbidden()\n",
    "```"
   ]
  },
  {
   "cell_type": "markdown",
   "metadata": {
    "slideshow": {
     "slide_type": "slide"
    }
   },
   "source": [
    "# Access control (without decorators)\n",
    "\n",
    "```python\n",
    "def code_that_accesses_private_data(...):\n",
    "    assert_permission('account-manager')\n",
    "    ... # other stuff\n",
    "    \n",
    "def other_unsafe_code(...):\n",
    "    # oops! forgot the assert_permission call\n",
    "    security_vulnerability_here()\n",
    "```"
   ]
  },
  {
   "cell_type": "markdown",
   "metadata": {
    "slideshow": {
     "slide_type": "slide"
    }
   },
   "source": [
    "# Access control (with decorators)\n",
    "\n",
    "```python\n",
    "@require_permission('account-manager')\n",
    "def code_that_accesses_private_data(...):\n",
    "    ... # other stuff\n",
    "    \n",
    "@require_permission('account-manager')\n",
    "def other_unsafe_code(...):\n",
    "    security_vulnerability_here()\n",
    "```"
   ]
  },
  {
   "cell_type": "markdown",
   "metadata": {
    "slideshow": {
     "slide_type": "fragment"
    }
   },
   "source": [
    "* Decorators are easier to visually audit than function body code (do all my functions/views/etc. have a permission decorator?)"
   ]
  },
  {
   "cell_type": "markdown",
   "metadata": {
    "slideshow": {
     "slide_type": "slide"
    }
   },
   "source": [
    "# Use Case #2: Side effects (\"function registry\")\n",
    "\n",
    "## Flask without decorators\n",
    "\n",
    "```python\n",
    "def get_home():\n",
    "    return jsonify({'page': 'Home'})\n",
    "\n",
    "def get_about():\n",
    "    return jsonify({'name': 'Rick Copeland'})\n",
    "\n",
    "app.add_url_rule(\"/\", view_func=get_home)\n",
    "app.add_url_rule('/about', view_func=get_about)\n",
    "```"
   ]
  },
  {
   "cell_type": "markdown",
   "metadata": {
    "slideshow": {
     "slide_type": "slide"
    }
   },
   "source": [
    "## Flask with decorators (99% of folks use this)\n",
    "\n",
    "\n",
    "```python\n",
    "@app.route('/')\n",
    "def get_home():\n",
    "    return jsonify({'page': 'Home'})\n",
    "\n",
    "@app.route('/about')\n",
    "def get_about():\n",
    "    return jsonify({'name': 'Rick Copeland'})\n",
    "```"
   ]
  },
  {
   "cell_type": "markdown",
   "metadata": {
    "slideshow": {
     "slide_type": "slide"
    }
   },
   "source": [
    "# So how does it all work? First, the syntax:"
   ]
  },
  {
   "cell_type": "markdown",
   "metadata": {
    "slideshow": {
     "slide_type": "fragment"
    }
   },
   "source": [
    "This:\n",
    "\n",
    "```python\n",
    "@something\n",
    "def my_function():\n",
    "    ...\n",
    "```"
   ]
  },
  {
   "cell_type": "markdown",
   "metadata": {
    "slideshow": {
     "slide_type": "fragment"
    }
   },
   "source": [
    "is just fancy syntax for this:\n",
    "\n",
    "```python\n",
    "def my_function():\n",
    "    ...\n",
    "my_function = something(my_function)\n",
    "```"
   ]
  },
  {
   "cell_type": "markdown",
   "metadata": {
    "slideshow": {
     "slide_type": "slide"
    }
   },
   "source": [
    "# A brief aside: closures make this all possible"
   ]
  },
  {
   "cell_type": "code",
   "execution_count": 1,
   "metadata": {
    "slideshow": {
     "slide_type": "fragment"
    }
   },
   "outputs": [],
   "source": [
    "def make_adder(x):\n",
    "    def add(y):\n",
    "        return x + y\n",
    "    return add\n",
    "\n",
    "add39 = make_adder(39)"
   ]
  },
  {
   "cell_type": "code",
   "execution_count": 2,
   "metadata": {
    "slideshow": {
     "slide_type": "fragment"
    }
   },
   "outputs": [
    {
     "data": {
      "text/plain": [
       "45"
      ]
     },
     "execution_count": 2,
     "metadata": {},
     "output_type": "execute_result"
    }
   ],
   "source": [
    "add39(6)"
   ]
  },
  {
   "cell_type": "code",
   "execution_count": 3,
   "metadata": {
    "slideshow": {
     "slide_type": "fragment"
    }
   },
   "outputs": [
    {
     "data": {
      "text/plain": [
       "18"
      ]
     },
     "execution_count": 3,
     "metadata": {},
     "output_type": "execute_result"
    }
   ],
   "source": [
    "add12 = make_adder(12)\n",
    "add12(6)"
   ]
  },
  {
   "cell_type": "markdown",
   "metadata": {
    "slideshow": {
     "slide_type": "slide"
    }
   },
   "source": [
    "# Python Scoping"
   ]
  },
  {
   "cell_type": "code",
   "execution_count": 4,
   "metadata": {
    "slideshow": {
     "slide_type": "fragment"
    }
   },
   "outputs": [
    {
     "name": "stdout",
     "output_type": "stream",
     "text": [
      "in global level (before outer), a= 10 b= 20 c= 30\n",
      "in outer function (before inner), a= ten b= 20 c= 30\n",
      "in inner function a= ten b= twenty c= 30\n",
      "in outer function (after inner), a= ten b= 20 c= 30\n",
      "in global level (before outer), a= 10 b= 20 c= 30\n"
     ]
    }
   ],
   "source": [
    "a = 10\n",
    "b = 20\n",
    "c = 30\n",
    "def outer_function():\n",
    "    a = 'ten'\n",
    "    def inner_function():\n",
    "        b = 'twenty'\n",
    "        print('in inner function a=', a, 'b=', b, 'c=', c)\n",
    "    print('in outer function (before inner), a=', a, 'b=', b, 'c=', c)\n",
    "    inner_function()\n",
    "    print('in outer function (after inner), a=', a, 'b=', b, 'c=', c)\n",
    "print('in global level (before outer), a=', a, 'b=', b, 'c=', c)\n",
    "outer_function()\n",
    "print('in global level (before outer), a=', a, 'b=', b, 'c=', c)\n",
    "              "
   ]
  },
  {
   "cell_type": "markdown",
   "metadata": {
    "slideshow": {
     "slide_type": "slide"
    }
   },
   "source": [
    "# Python scoping precendence\n",
    "\n",
    "* **L**ocal variables\n",
    "* **E**nclosing (nested, still local) variables\n",
    "* **G**lobal variables\n",
    "* **B**uiltin variables (list, set, int, str, etc.)"
   ]
  },
  {
   "cell_type": "markdown",
   "metadata": {
    "slideshow": {
     "slide_type": "slide"
    }
   },
   "source": [
    "# Let's build a decorator\n",
    "\n",
    "Start simple: log the entry/exit of a function"
   ]
  },
  {
   "cell_type": "code",
   "execution_count": 5,
   "metadata": {
    "slideshow": {
     "slide_type": "skip"
    }
   },
   "outputs": [],
   "source": [
    "def log_calls(func):\n",
    "    def wrapper(*args, **kwargs):\n",
    "        print(f'Calling {func.__name__}(args={args}, kwargs={kwargs})')\n",
    "        result = func(*args, **kwargs)\n",
    "        print(f' ==> {result}')\n",
    "    return wrapper"
   ]
  },
  {
   "cell_type": "markdown",
   "metadata": {
    "slideshow": {
     "slide_type": "slide"
    }
   },
   "source": [
    "Desired syntax:"
   ]
  },
  {
   "cell_type": "code",
   "execution_count": 6,
   "metadata": {
    "slideshow": {
     "slide_type": "fragment"
    }
   },
   "outputs": [],
   "source": [
    "@log_calls\n",
    "def func1(a, b):\n",
    "    print(f'func1({a}, {b})')\n",
    "    return a + b\n",
    "    \n",
    "@log_calls\n",
    "def func2(c, d):\n",
    "    print(f'func2({c}, {d})')\n",
    "    return c - d"
   ]
  },
  {
   "cell_type": "code",
   "execution_count": 7,
   "metadata": {
    "slideshow": {
     "slide_type": "fragment"
    }
   },
   "outputs": [
    {
     "name": "stdout",
     "output_type": "stream",
     "text": [
      "Calling func1(args=(1, 2), kwargs={})\n",
      "func1(1, 2)\n",
      " ==> 3\n",
      "Calling func2(args=(3, 4), kwargs={})\n",
      "func2(3, 4)\n",
      " ==> -1\n"
     ]
    }
   ],
   "source": [
    "func1(1, 2)\n",
    "func2(3, 4)"
   ]
  },
  {
   "cell_type": "markdown",
   "metadata": {
    "slideshow": {
     "slide_type": "slide"
    }
   },
   "source": [
    "Remember that this:\n",
    "\n",
    "```python\n",
    "@log_calls\n",
    "def func1(a, b):\n",
    "    print(f'func1({a}, {b})')\n",
    "    return a + b\n",
    "```"
   ]
  },
  {
   "cell_type": "markdown",
   "metadata": {
    "slideshow": {
     "slide_type": "fragment"
    }
   },
   "source": [
    "... really means this:\n",
    "\n",
    "```python\n",
    "def func1(a, b):\n",
    "    print(f'func1({a}, {b})')\n",
    "    return a + b\n",
    "\n",
    "func1 = log_calls(func1)   # we call this \"decorating\" func1\n",
    "```"
   ]
  },
  {
   "cell_type": "markdown",
   "metadata": {
    "slideshow": {
     "slide_type": "fragment"
    }
   },
   "source": [
    "... so what's the definition of log_calls?"
   ]
  },
  {
   "cell_type": "markdown",
   "metadata": {
    "slideshow": {
     "slide_type": "slide"
    }
   },
   "source": [
    "# General decorator pattern: wrapping functions\n",
    "        \n",
    "```python\n",
    "def decorator(function_being_decorated):\n",
    "    def wrapper(*args, **kwargs):  # \"general purpose\" function signature\n",
    "        # ... things to do before the function is called ...\n",
    "        result = function_being_decorated(*args, **kwargs)\n",
    "        # ... things to do after the function is called ...\n",
    "        return result\n",
    "    return wrapper \n",
    "```"
   ]
  },
  {
   "cell_type": "markdown",
   "metadata": {
    "slideshow": {
     "slide_type": "slide"
    }
   },
   "source": [
    "As applied to our example..."
   ]
  },
  {
   "cell_type": "code",
   "execution_count": 1,
   "metadata": {
    "slideshow": {
     "slide_type": "fragment"
    }
   },
   "outputs": [],
   "source": [
    "def log_calls(function):\n",
    "    def wrapper(*args, **kwargs):\n",
    "        print(f'Calling {function.__name__}(args={args}, kwargs={kwargs})')\n",
    "        result = function(*args, **kwargs)\n",
    "        print(f' ==> {result}')\n",
    "        return result\n",
    "    return wrapper"
   ]
  },
  {
   "cell_type": "code",
   "execution_count": 9,
   "metadata": {
    "slideshow": {
     "slide_type": "fragment"
    }
   },
   "outputs": [],
   "source": [
    "@log_calls\n",
    "def func1(a, b):\n",
    "    \"This is func1\"\n",
    "    print(f'func1({a}, {b})')\n",
    "    return a + b\n",
    "    \n",
    "@log_calls\n",
    "def func2(c, d):\n",
    "    \"This is func2\"\n",
    "    print(f'func2({c}, {d})')\n",
    "    return c - d"
   ]
  },
  {
   "cell_type": "code",
   "execution_count": 10,
   "metadata": {
    "slideshow": {
     "slide_type": "fragment"
    }
   },
   "outputs": [
    {
     "name": "stdout",
     "output_type": "stream",
     "text": [
      "Calling func1(args=(1, 2), kwargs={})\n",
      "func1(1, 2)\n",
      " ==> 3\n",
      "Calling func2(args=(3, 4), kwargs={})\n",
      "func2(3, 4)\n",
      " ==> -1\n"
     ]
    }
   ],
   "source": [
    "func1(1, 2)\n",
    "func2(3, 4)"
   ]
  },
  {
   "cell_type": "markdown",
   "metadata": {
    "slideshow": {
     "slide_type": "slide"
    }
   },
   "source": [
    "# Success! (almost)"
   ]
  },
  {
   "cell_type": "markdown",
   "metadata": {
    "slideshow": {
     "slide_type": "fragment"
    }
   },
   "source": [
    "## No decoration"
   ]
  },
  {
   "cell_type": "code",
   "execution_count": 11,
   "metadata": {
    "slideshow": {
     "slide_type": "fragment"
    }
   },
   "outputs": [
    {
     "name": "stdout",
     "output_type": "stream",
     "text": [
      "Help on function func1 in module __main__:\n",
      "\n",
      "func1(a, b)\n",
      "    This is func1\n",
      "\n"
     ]
    }
   ],
   "source": [
    "def func1(a, b):\n",
    "    \"This is func1\"\n",
    "    print(f'func1({a}, {b})')\n",
    "    return a + b\n",
    "\n",
    "help(func1)"
   ]
  },
  {
   "cell_type": "code",
   "execution_count": 12,
   "metadata": {
    "slideshow": {
     "slide_type": "fragment"
    }
   },
   "outputs": [
    {
     "name": "stdout",
     "output_type": "stream",
     "text": [
      "<function func1 at 0x7fbb9c5c3ca0>\n"
     ]
    }
   ],
   "source": [
    "print(func1)"
   ]
  },
  {
   "cell_type": "markdown",
   "metadata": {
    "slideshow": {
     "slide_type": "fragment"
    }
   },
   "source": [
    "Great introspection/documentation, decent name"
   ]
  },
  {
   "cell_type": "markdown",
   "metadata": {
    "slideshow": {
     "slide_type": "slide"
    }
   },
   "source": [
    "# Success! (almost)\n",
    "\n",
    "## With decoration"
   ]
  },
  {
   "cell_type": "code",
   "execution_count": 13,
   "metadata": {
    "slideshow": {
     "slide_type": "fragment"
    }
   },
   "outputs": [
    {
     "name": "stdout",
     "output_type": "stream",
     "text": [
      "Help on function wrapper in module __main__:\n",
      "\n",
      "wrapper(*args, **kwargs)\n",
      "\n"
     ]
    }
   ],
   "source": [
    "@log_calls\n",
    "def func1(a, b):\n",
    "    \"This is func1\"\n",
    "    print(f'func1({a}, {b})')\n",
    "    return a + b\n",
    "help(func1)"
   ]
  },
  {
   "cell_type": "code",
   "execution_count": 14,
   "metadata": {
    "slideshow": {
     "slide_type": "fragment"
    }
   },
   "outputs": [
    {
     "name": "stdout",
     "output_type": "stream",
     "text": [
      "<function log_calls.<locals>.wrapper at 0x7fbb9c584160>\n"
     ]
    }
   ],
   "source": [
    "print(func1)"
   ]
  },
  {
   "cell_type": "markdown",
   "metadata": {
    "slideshow": {
     "slide_type": "fragment"
    }
   },
   "source": [
    "Horrible introspection/documentation, WTF name?!"
   ]
  },
  {
   "cell_type": "markdown",
   "metadata": {
    "slideshow": {
     "slide_type": "slide"
    }
   },
   "source": [
    "# Fixing introspection"
   ]
  },
  {
   "cell_type": "code",
   "execution_count": 15,
   "metadata": {
    "slideshow": {
     "slide_type": "fragment"
    }
   },
   "outputs": [
    {
     "name": "stdout",
     "output_type": "stream",
     "text": [
      "Help on function func1 in module __main__:\n",
      "\n",
      "func1(a, b)\n",
      "    This is func1\n",
      "\n"
     ]
    }
   ],
   "source": [
    "from functools import wraps\n",
    "\n",
    "def log_calls(function):\n",
    "    @wraps(function)\n",
    "    def wrapper(*args, **kwargs):\n",
    "        print(f'Calling {function.__name__}(args={args}, kwargs={kwargs})')\n",
    "        result = function(*args, **kwargs)\n",
    "        print(f' ==> {result}')\n",
    "    return wrapper\n",
    "\n",
    "@log_calls\n",
    "def func1(a, b):\n",
    "    \"This is func1\"\n",
    "    print(f'func1({a}, {b})')\n",
    "    return a + b\n",
    "help(func1)"
   ]
  },
  {
   "cell_type": "markdown",
   "metadata": {
    "slideshow": {
     "slide_type": "slide"
    }
   },
   "source": [
    "Adding the `@wraps` decorator _copies_ all the introspection information from the _function being wrapped_ to the _wrapper function_:"
   ]
  },
  {
   "cell_type": "code",
   "execution_count": 16,
   "metadata": {
    "slideshow": {
     "slide_type": "fragment"
    }
   },
   "outputs": [
    {
     "name": "stdout",
     "output_type": "stream",
     "text": [
      "<function func1 at 0x7fbb9c584790>\n"
     ]
    }
   ],
   "source": [
    "print(func1)"
   ]
  },
  {
   "cell_type": "code",
   "execution_count": 17,
   "metadata": {
    "slideshow": {
     "slide_type": "fragment"
    }
   },
   "outputs": [
    {
     "name": "stdout",
     "output_type": "stream",
     "text": [
      "Calling func1(args=(1, 2), kwargs={})\n",
      "func1(1, 2)\n",
      " ==> 3\n"
     ]
    }
   ],
   "source": [
    "func1(1,2)"
   ]
  },
  {
   "cell_type": "markdown",
   "metadata": {
    "slideshow": {
     "slide_type": "slide"
    }
   },
   "source": [
    "<img src=\"data/img/yo-dawg-decorators.jpg\">"
   ]
  },
  {
   "cell_type": "markdown",
   "metadata": {
    "slideshow": {
     "slide_type": "slide"
    }
   },
   "source": [
    "# Use Case #2: Side effects (\"function registry\")\n",
    "\n",
    "Something like Flask needs to keep a mapping (like a `dict`) between a URL pattern and a Python function (a 'view'). "
   ]
  },
  {
   "cell_type": "markdown",
   "metadata": {
    "slideshow": {
     "slide_type": "fragment"
    }
   },
   "source": [
    "Simpler version of Flask (Teacup?)\n",
    "\n",
    "```python\n",
    "@route('/')\n",
    "def get_home():\n",
    "    return {'page': 'Home'}\n",
    "\n",
    "@route('/about')\n",
    "def get_about():\n",
    "    return {'name': 'Rick Copeland'}\n",
    "```"
   ]
  },
  {
   "cell_type": "markdown",
   "metadata": {
    "slideshow": {
     "slide_type": "slide"
    }
   },
   "source": [
    "# Let's build it!"
   ]
  },
  {
   "cell_type": "markdown",
   "metadata": {
    "slideshow": {
     "slide_type": "fragment"
    }
   },
   "source": [
    "First, remember to translate the syntax:\n",
    "\n",
    "```python\n",
    "@route('/')\n",
    "def get_home():\n",
    "    return {'page': 'Home'}\n",
    "```\n",
    "... really means ..."
   ]
  },
  {
   "cell_type": "markdown",
   "metadata": {
    "slideshow": {
     "slide_type": "fragment"
    }
   },
   "source": [
    "```python\n",
    "\n",
    "_temp = route('/')\n",
    "def get_home():\n",
    "    return {'page': 'Home'}\n",
    "get_home = _temp(get_home)\n",
    "```"
   ]
  },
  {
   "cell_type": "markdown",
   "metadata": {
    "slideshow": {
     "slide_type": "slide"
    }
   },
   "source": [
    "# Actual implementation\n",
    "\n",
    "In this case, we **aren't** going to be creating a wrapper. \n",
    "\n",
    "Instead, we'll generate a **side-effect** of entering the function in a global registry of \"routes\""
   ]
  },
  {
   "cell_type": "code",
   "execution_count": 18,
   "metadata": {
    "slideshow": {
     "slide_type": "fragment"
    }
   },
   "outputs": [],
   "source": [
    "global_routes_dict = {}\n",
    "\n",
    "def route(url_pattern):\n",
    "    \"This is not a decorator! It is a *decorator factory*. It **builds** decorators!\"\n",
    "    def decorator(view_function):\n",
    "        \"This is the actual decorator (helpfully named!)\"\n",
    "        global_routes_dict[url_pattern] = view_function\n",
    "        return view_function # notice we are not wrapping!\n",
    "    return decorator"
   ]
  },
  {
   "cell_type": "code",
   "execution_count": 19,
   "metadata": {
    "slideshow": {
     "slide_type": "fragment"
    }
   },
   "outputs": [],
   "source": [
    "@route('/')\n",
    "def get_home():\n",
    "    return {'page': 'Home'}\n",
    "\n",
    "@route('/about')\n",
    "def get_about():\n",
    "    return {'name': 'Rick Copeland'}\n"
   ]
  },
  {
   "cell_type": "code",
   "execution_count": 20,
   "metadata": {
    "slideshow": {
     "slide_type": "slide"
    }
   },
   "outputs": [],
   "source": [
    "def teacup_dispatcher(url_path):\n",
    "    view_function = global_routes_dict.get(url_path)\n",
    "    if view_function is None:\n",
    "        raise ValueError('404 Not Found')  # probably should use custom exception\n",
    "    return view_function()"
   ]
  },
  {
   "cell_type": "code",
   "execution_count": 21,
   "metadata": {
    "slideshow": {
     "slide_type": "fragment"
    }
   },
   "outputs": [
    {
     "data": {
      "text/plain": [
       "{'page': 'Home'}"
      ]
     },
     "execution_count": 21,
     "metadata": {},
     "output_type": "execute_result"
    }
   ],
   "source": [
    "teacup_dispatcher('/')"
   ]
  },
  {
   "cell_type": "code",
   "execution_count": 22,
   "metadata": {
    "slideshow": {
     "slide_type": "fragment"
    }
   },
   "outputs": [
    {
     "data": {
      "text/plain": [
       "{'name': 'Rick Copeland'}"
      ]
     },
     "execution_count": 22,
     "metadata": {},
     "output_type": "execute_result"
    }
   ],
   "source": [
    "teacup_dispatcher('/about')"
   ]
  },
  {
   "cell_type": "markdown",
   "metadata": {
    "slideshow": {
     "slide_type": "slide"
    }
   },
   "source": [
    "# Wrappers or decorator factories?"
   ]
  },
  {
   "cell_type": "markdown",
   "metadata": {
    "slideshow": {
     "slide_type": "fragment"
    }
   },
   "source": [
    "<img src=\"data/img/decorators-why-not-both.jpg\">"
   ]
  },
  {
   "cell_type": "markdown",
   "metadata": {
    "slideshow": {
     "slide_type": "slide"
    }
   },
   "source": [
    "# How about some (performance-sensitive) instrumentation?\n",
    "\n",
    "## Problem: we need to know where our (high-traffic web-based) app is spending all its time"
   ]
  },
  {
   "cell_type": "markdown",
   "metadata": {
    "slideshow": {
     "slide_type": "fragment"
    }
   },
   "source": [
    "## Solution (?): Profile!"
   ]
  },
  {
   "cell_type": "markdown",
   "metadata": {
    "slideshow": {
     "slide_type": "fragment"
    }
   },
   "source": [
    "## The 'now you have 2 problems' problem: Profiling is _SLOW_"
   ]
  },
  {
   "cell_type": "markdown",
   "metadata": {
    "slideshow": {
     "slide_type": "slide"
    }
   },
   "source": [
    "# HOW SLOW IS IT?"
   ]
  },
  {
   "cell_type": "code",
   "execution_count": 23,
   "metadata": {
    "slideshow": {
     "slide_type": "fragment"
    }
   },
   "outputs": [],
   "source": [
    "import re\n",
    "import time\n",
    "\n",
    "def find_foxes(text):\n",
    "    return re.findall('fox', text)"
   ]
  },
  {
   "cell_type": "code",
   "execution_count": 24,
   "metadata": {
    "slideshow": {
     "slide_type": "fragment"
    }
   },
   "outputs": [
    {
     "name": "stdout",
     "output_type": "stream",
     "text": [
      "438 ns ± 8.05 ns per loop (mean ± std. dev. of 7 runs, 1000000 loops each)\n"
     ]
    }
   ],
   "source": [
    "%%timeit\n",
    "find_foxes('the quick brown fox jumps over the lazy dog')"
   ]
  },
  {
   "cell_type": "markdown",
   "metadata": {
    "slideshow": {
     "slide_type": "fragment"
    }
   },
   "source": [
    "... but with profiling turned on..."
   ]
  },
  {
   "cell_type": "code",
   "execution_count": 25,
   "metadata": {
    "slideshow": {
     "slide_type": "fragment"
    }
   },
   "outputs": [],
   "source": [
    "from cProfile import Profile\n",
    "prof = Profile()"
   ]
  },
  {
   "cell_type": "code",
   "execution_count": 26,
   "metadata": {
    "slideshow": {
     "slide_type": "fragment"
    }
   },
   "outputs": [
    {
     "name": "stdout",
     "output_type": "stream",
     "text": [
      "1.54 µs ± 22.3 ns per loop (mean ± std. dev. of 7 runs, 1000000 loops each)\n"
     ]
    }
   ],
   "source": [
    "%%timeit\n",
    "with prof:\n",
    "    find_foxes('the quick brown fox jumps over the lazy dog')"
   ]
  },
  {
   "cell_type": "markdown",
   "metadata": {
    "slideshow": {
     "slide_type": "slide"
    }
   },
   "source": [
    "# Profile data is great..."
   ]
  },
  {
   "cell_type": "code",
   "execution_count": 27,
   "metadata": {
    "slideshow": {
     "slide_type": "fragment"
    }
   },
   "outputs": [
    {
     "name": "stdout",
     "output_type": "stream",
     "text": [
      "         56777777 function calls in 8.973 seconds\n",
      "\n",
      "   Ordered by: internal time\n",
      "\n",
      "   ncalls  tottime  percall  cumtime  percall filename:lineno(function)\n",
      "  8111111    1.999    0.000    5.868    0.000 re.py:233(findall)\n",
      "  8111111    1.849    0.000    2.569    0.000 re.py:289(_compile)\n",
      "  8111111    1.676    0.000    7.544    0.000 <ipython-input-23-a9d52e7f3a05>:4(find_foxes)\n",
      "  8111111    1.299    0.000    1.299    0.000 {method 'findall' of 're.Pattern' objects}\n",
      "  8111111    1.044    0.000    1.429    0.000 cProfile.py:133(__exit__)\n",
      "  8111111    0.720    0.000    0.720    0.000 {built-in method builtins.isinstance}\n",
      "  8111111    0.385    0.000    0.385    0.000 {method 'disable' of '_lsprof.Profiler' objects}\n",
      "\n",
      "\n"
     ]
    }
   ],
   "source": [
    "prof.print_stats(sort='time')"
   ]
  },
  {
   "cell_type": "markdown",
   "metadata": {
    "slideshow": {
     "slide_type": "fragment"
    }
   },
   "source": [
    "## ...but 3x or more slowdown is a non-starter..."
   ]
  },
  {
   "cell_type": "markdown",
   "metadata": {
    "slideshow": {
     "slide_type": "slide"
    }
   },
   "source": [
    "# What if we sampled say - 5% of the calls?"
   ]
  },
  {
   "cell_type": "code",
   "execution_count": 28,
   "metadata": {
    "slideshow": {
     "slide_type": "fragment"
    }
   },
   "outputs": [],
   "source": [
    "from random import random\n",
    "\n",
    "def sampling_profiler(prof, rate):\n",
    "    def decorator(function):\n",
    "        @wraps(function)\n",
    "        def wrapper(*args, **kwargs):\n",
    "            num = random()\n",
    "            if num < rate:\n",
    "                with prof:\n",
    "                    return function(*args, **kwargs)\n",
    "            else:\n",
    "                return function(*args, **kwargs)\n",
    "        return wrapper\n",
    "    return decorator"
   ]
  },
  {
   "cell_type": "markdown",
   "metadata": {
    "slideshow": {
     "slide_type": "slide"
    }
   },
   "source": [
    "# Really?!"
   ]
  },
  {
   "cell_type": "markdown",
   "metadata": {
    "slideshow": {
     "slide_type": "fragment"
    }
   },
   "source": [
    "Yes, I know that's **3** levels of nesting functions..."
   ]
  },
  {
   "cell_type": "markdown",
   "metadata": {
    "slideshow": {
     "slide_type": "fragment"
    }
   },
   "source": [
    "...with a gratuitous decorator thrown in."
   ]
  },
  {
   "cell_type": "markdown",
   "metadata": {
    "slideshow": {
     "slide_type": "fragment"
    }
   },
   "source": [
    "It is nonetheless a pretty common (and Pythonic!) pattern. "
   ]
  },
  {
   "cell_type": "markdown",
   "metadata": {
    "slideshow": {
     "slide_type": "fragment"
    }
   },
   "source": [
    "I'm very sorry."
   ]
  },
  {
   "cell_type": "markdown",
   "metadata": {
    "slideshow": {
     "slide_type": "slide"
    }
   },
   "source": [
    "# So anyway, it works pretty well..."
   ]
  },
  {
   "cell_type": "code",
   "execution_count": 29,
   "metadata": {
    "slideshow": {
     "slide_type": "fragment"
    }
   },
   "outputs": [],
   "source": [
    "prof = Profile()\n",
    "\n",
    "@sampling_profiler(prof, 0.05)\n",
    "def find_foxes(text):\n",
    "    return re.findall('fox', text)"
   ]
  },
  {
   "cell_type": "code",
   "execution_count": 30,
   "metadata": {
    "slideshow": {
     "slide_type": "fragment"
    }
   },
   "outputs": [
    {
     "name": "stdout",
     "output_type": "stream",
     "text": [
      "672 ns ± 15.6 ns per loop (mean ± std. dev. of 7 runs, 1000000 loops each)\n"
     ]
    }
   ],
   "source": [
    "%%timeit\n",
    "find_foxes('the quick brown fox jumps over the lazy dog')"
   ]
  },
  {
   "cell_type": "code",
   "execution_count": 31,
   "metadata": {
    "slideshow": {
     "slide_type": "fragment"
    }
   },
   "outputs": [
    {
     "name": "stdout",
     "output_type": "stream",
     "text": [
      "         2845129 function calls in 0.498 seconds\n",
      "\n",
      "   Ordered by: internal time\n",
      "\n",
      "   ncalls  tottime  percall  cumtime  percall filename:lineno(function)\n",
      "   406447    0.113    0.000    0.323    0.000 re.py:233(findall)\n",
      "   406447    0.100    0.000    0.139    0.000 re.py:289(_compile)\n",
      "   406447    0.096    0.000    0.419    0.000 <ipython-input-29-d44eab210293>:3(find_foxes)\n",
      "   406447    0.070    0.000    0.070    0.000 {method 'findall' of 're.Pattern' objects}\n",
      "   406447    0.057    0.000    0.078    0.000 cProfile.py:133(__exit__)\n",
      "   406447    0.039    0.000    0.039    0.000 {built-in method builtins.isinstance}\n",
      "   406447    0.022    0.000    0.022    0.000 {method 'disable' of '_lsprof.Profiler' objects}\n",
      "\n",
      "\n"
     ]
    }
   ],
   "source": [
    "prof.print_stats(sort='time')"
   ]
  },
  {
   "cell_type": "markdown",
   "metadata": {
    "slideshow": {
     "slide_type": "slide"
    }
   },
   "source": [
    "# And if you want to actually make it faster..."
   ]
  },
  {
   "cell_type": "code",
   "execution_count": 32,
   "metadata": {
    "slideshow": {
     "slide_type": "fragment"
    }
   },
   "outputs": [],
   "source": [
    "prof = Profile()\n",
    "re_fox = re.compile('fox')\n",
    "\n",
    "@sampling_profiler(prof, 0.05)\n",
    "def find_foxes(text):\n",
    "    return re_fox.findall(text)"
   ]
  },
  {
   "cell_type": "code",
   "execution_count": 33,
   "metadata": {
    "slideshow": {
     "slide_type": "fragment"
    }
   },
   "outputs": [
    {
     "name": "stdout",
     "output_type": "stream",
     "text": [
      "336 ns ± 5.38 ns per loop (mean ± std. dev. of 7 runs, 1000000 loops each)\n"
     ]
    }
   ],
   "source": [
    "%%timeit\n",
    "find_foxes('the quick brown fox jumps over the lazy dog')"
   ]
  },
  {
   "cell_type": "code",
   "execution_count": 34,
   "metadata": {
    "slideshow": {
     "slide_type": "fragment"
    }
   },
   "outputs": [
    {
     "name": "stdout",
     "output_type": "stream",
     "text": [
      "         1622564 function calls in 0.197 seconds\n",
      "\n",
      "   Ordered by: internal time\n",
      "\n",
      "   ncalls  tottime  percall  cumtime  percall filename:lineno(function)\n",
      "   405641    0.066    0.000    0.066    0.000 {method 'findall' of 're.Pattern' objects}\n",
      "   405641    0.060    0.000    0.126    0.000 <ipython-input-32-789a08d53b88>:4(find_foxes)\n",
      "   405641    0.050    0.000    0.071    0.000 cProfile.py:133(__exit__)\n",
      "   405641    0.020    0.000    0.020    0.000 {method 'disable' of '_lsprof.Profiler' objects}\n",
      "\n",
      "\n"
     ]
    }
   ],
   "source": [
    "prof.print_stats(sort='time')"
   ]
  },
  {
   "cell_type": "markdown",
   "metadata": {
    "slideshow": {
     "slide_type": "fragment"
    }
   },
   "source": [
    "... so if you are going to use a pattern more than once, pre-compile it..."
   ]
  },
  {
   "cell_type": "markdown",
   "metadata": {
    "slideshow": {
     "slide_type": "slide"
    }
   },
   "source": [
    "# Thank you... any questions?\n",
    "\n",
    "## Rick Copeland\n",
    "\n",
    "## rick@arborian.com\n",
    "\n",
    "(available for group Python, ML, and Data Science Training)"
   ]
  }
 ],
 "metadata": {
  "celltoolbar": "Slideshow",
  "kernelspec": {
   "display_name": "Python 3",
   "language": "python",
   "name": "python3"
  },
  "language_info": {
   "codemirror_mode": {
    "name": "ipython",
    "version": 3
   },
   "file_extension": ".py",
   "mimetype": "text/x-python",
   "name": "python",
   "nbconvert_exporter": "python",
   "pygments_lexer": "ipython3",
   "version": "3.8.5"
  }
 },
 "nbformat": 4,
 "nbformat_minor": 4
}
