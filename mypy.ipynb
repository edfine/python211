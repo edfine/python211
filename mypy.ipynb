{
 "cells": [
  {
   "cell_type": "markdown",
   "metadata": {},
   "source": [
    "# Type annotations and Mypy\n",
    "\n",
    "(adapted from https://realpython.com/lessons/type-checking-mypy/)"
   ]
  },
  {
   "cell_type": "code",
   "execution_count": 1,
   "metadata": {},
   "outputs": [
    {
     "name": "stdout",
     "output_type": "stream",
     "text": [
      "Looking in links: /home/rick446/src/wheelhouse\n",
      "Requirement already satisfied: mypy in /home/rick446/.virtualenvs/classes/lib/python3.8/site-packages (0.910)\n",
      "Requirement already satisfied: mypy-extensions<0.5.0,>=0.4.3 in /home/rick446/.virtualenvs/classes/lib/python3.8/site-packages (from mypy) (0.4.3)\n",
      "Requirement already satisfied: toml in /home/rick446/.virtualenvs/classes/lib/python3.8/site-packages (from mypy) (0.10.2)\n",
      "Requirement already satisfied: typing-extensions>=3.7.4 in /home/rick446/.virtualenvs/classes/lib/python3.8/site-packages (from mypy) (3.7.4.3)\n",
      "\u001b[33mWARNING: You are using pip version 20.2.3; however, version 22.0.4 is available.\n",
      "You should consider upgrading via the '/home/rick446/.virtualenvs/classes/bin/python -m pip install --upgrade pip' command.\u001b[0m\n"
     ]
    }
   ],
   "source": [
    "!pip install mypy"
   ]
  },
  {
   "cell_type": "code",
   "execution_count": 2,
   "metadata": {},
   "outputs": [
    {
     "name": "stdout",
     "output_type": "stream",
     "text": [
      "Overwriting data/mypy/headlines.py\n"
     ]
    }
   ],
   "source": [
    "%%file data/mypy/headlines.py\n",
    "def headline(text: str, align: bool = True) -> str:\n",
    "    if align:\n",
    "        return f\"{text.title()}\\n{'-' * len(text)}\"\n",
    "    else:\n",
    "        return f\" {text.title()} \".center(50, \"o\")\n",
    "\n",
    "print(headline(\"python type checking\"))\n",
    "print(headline(\"use mypy\", align=\"center\"))"
   ]
  },
  {
   "cell_type": "code",
   "execution_count": 3,
   "metadata": {},
   "outputs": [
    {
     "name": "stdout",
     "output_type": "stream",
     "text": [
      "Python Type Checking\r\n",
      "--------------------\r\n",
      "Use Mypy\r\n",
      "--------\r\n"
     ]
    }
   ],
   "source": [
    "!python data/mypy/headlines.py"
   ]
  },
  {
   "cell_type": "code",
   "execution_count": 4,
   "metadata": {},
   "outputs": [
    {
     "name": "stdout",
     "output_type": "stream",
     "text": [
      "data/mypy/headlines.py:8: \u001b[1m\u001b[31merror:\u001b[m Argument \u001b[m\u001b[1m\"align\"\u001b[m to \u001b[m\u001b[1m\"headline\"\u001b[m has incompatible type \u001b[m\u001b[1m\"str\"\u001b[m; expected \u001b[m\u001b[1m\"bool\"\u001b[m\u001b[m\r\n",
      "\u001b[1m\u001b[31mFound 1 error in 1 file (checked 1 source file)\u001b[m\r\n"
     ]
    }
   ],
   "source": [
    "!mypy data/mypy/headlines.py"
   ]
  },
  {
   "cell_type": "code",
   "execution_count": 5,
   "metadata": {},
   "outputs": [
    {
     "name": "stdout",
     "output_type": "stream",
     "text": [
      "Overwriting data/mypy/headlines.py\n"
     ]
    }
   ],
   "source": [
    "%%file data/mypy/headlines.py\n",
    "def headline(text: str, centered: bool = True) -> str:\n",
    "    if centered:\n",
    "        return f\"{text.title()}\\n{'-' * len(text)}\"\n",
    "    else:\n",
    "        return f\" {text.title()} \".center(50, \"o\")\n",
    "\n",
    "print(headline(\"python type checking\"))\n",
    "print(headline(\"use mypy\", centered=True))"
   ]
  },
  {
   "cell_type": "code",
   "execution_count": 6,
   "metadata": {},
   "outputs": [
    {
     "name": "stdout",
     "output_type": "stream",
     "text": [
      "\u001b[1m\u001b[32mSuccess: no issues found in 1 source file\u001b[m\r\n"
     ]
    }
   ],
   "source": [
    "!mypy data/mypy/headlines.py"
   ]
  },
  {
   "cell_type": "code",
   "execution_count": 7,
   "metadata": {},
   "outputs": [
    {
     "name": "stdout",
     "output_type": "stream",
     "text": [
      "Python Type Checking\r\n",
      "--------------------\r\n",
      "Use Mypy\r\n",
      "--------\r\n"
     ]
    }
   ],
   "source": [
    "!python data/mypy/headlines.py"
   ]
  },
  {
   "cell_type": "code",
   "execution_count": 8,
   "metadata": {},
   "outputs": [
    {
     "name": "stdout",
     "output_type": "stream",
     "text": [
      "Overwriting data/mypy/directory.py\n"
     ]
    }
   ],
   "source": [
    "%%file data/mypy/directory.py\n",
    "from typing import Dict, Set\n",
    "\n",
    "class Directory:\n",
    "    \"\"\"Keep a mapping of hosts to addresses.\"\"\"\n",
    "    __hosts: Dict[str, Set[str]]\n",
    "    \n",
    "    def __init__(self):\n",
    "        self.__hosts = {}\n",
    "        \n",
    "    def __repr__(self) -> str:\n",
    "        return f'<Directory of {len(self.__hosts)} hosts>'\n",
    "        \n",
    "    def __str__(self) -> str:\n",
    "        lines = [f'Directory of {len(self.__hosts)} hosts']\n",
    "        for host, addresses in self.__hosts.items():\n",
    "            lines.append(f' - {host} => {addresses}')\n",
    "        return '\\n'.join(lines)\n",
    "        \n",
    "    def add_mapping(self, name: str, address: str) -> None:\n",
    "        if name not in self.__hosts:\n",
    "            self.__hosts[name] = set()\n",
    "        self.__hosts[name].add(address)\n",
    "        \n",
    "    def remove_mapping(self, name: str, address: str) -> None:\n",
    "        if name in self.__hosts:\n",
    "            self.__hosts[name].discard(address)\n",
    "            \n",
    "    def resolve(self, name: str) -> Set[str]:\n",
    "        if name in self.__hosts:\n",
    "            return self.__hosts[name]\n",
    "        else:\n",
    "            return 'NXDOMAIN'"
   ]
  },
  {
   "cell_type": "code",
   "execution_count": 9,
   "metadata": {},
   "outputs": [
    {
     "name": "stdout",
     "output_type": "stream",
     "text": [
      "data/mypy/directory.py:32: \u001b[1m\u001b[31merror:\u001b[m Incompatible return value type (got \u001b[m\u001b[1m\"str\"\u001b[m, expected \u001b[m\u001b[1m\"Set[str]\"\u001b[m)\u001b[m\r\n",
      "\u001b[1m\u001b[31mFound 1 error in 1 file (checked 1 source file)\u001b[m\r\n"
     ]
    }
   ],
   "source": [
    "!mypy data/mypy/directory.py"
   ]
  },
  {
   "cell_type": "code",
   "execution_count": 10,
   "metadata": {},
   "outputs": [
    {
     "name": "stdout",
     "output_type": "stream",
     "text": [
      "Overwriting data/mypy/directory2.py\n"
     ]
    }
   ],
   "source": [
    "%%file data/mypy/directory2.py\n",
    "from typing import Dict, Set, Union\n",
    "\n",
    "class Directory:\n",
    "    \"\"\"Keep a mapping of hosts to addresses.\"\"\"\n",
    "    __hosts: Dict[str, Set[str]]\n",
    "    \n",
    "    def __init__(self):\n",
    "        self.__hosts = {}\n",
    "        \n",
    "    def __repr__(self) -> str:\n",
    "        return f'<Directory of {len(self.__hosts)} hosts>'\n",
    "        \n",
    "    def __str__(self) -> str:\n",
    "        lines = [f'Directory of {len(self.__hosts)} hosts']\n",
    "        for host, addresses in self.__hosts.items():\n",
    "            lines.append(f' - {host} => {addresses}')\n",
    "        return '\\n'.join(lines)\n",
    "        \n",
    "    def add_mapping(self, name: str, address: str) -> None:\n",
    "        if name not in self.__hosts:\n",
    "            self.__hosts[name] = set()\n",
    "        self.__hosts[name].add(address)\n",
    "        \n",
    "    def remove_mapping(self, name: str, address: str) -> None:\n",
    "        if name in self.__hosts:\n",
    "            self.__hosts[name].discard(address)\n",
    "            \n",
    "    def resolve(self, name: str) -> Union[str, Set[str]]:\n",
    "        if name in self.__hosts:\n",
    "            return self.__hosts[name]\n",
    "        else:\n",
    "            return 'NXDOMAIN'\n",
    "        \n",
    "d = Directory()"
   ]
  },
  {
   "cell_type": "code",
   "execution_count": 11,
   "metadata": {},
   "outputs": [
    {
     "name": "stdout",
     "output_type": "stream",
     "text": [
      "\u001b[1m\u001b[32mSuccess: no issues found in 1 source file\u001b[m\r\n"
     ]
    }
   ],
   "source": [
    "!mypy data/mypy/directory2.py"
   ]
  },
  {
   "cell_type": "code",
   "execution_count": 12,
   "metadata": {},
   "outputs": [
    {
     "name": "stdout",
     "output_type": "stream",
     "text": [
      "Overwriting data/mypy/directory3.py\n"
     ]
    }
   ],
   "source": [
    "%%file data/mypy/directory3.py\n",
    "from typing import Dict, Set, Union\n",
    "\n",
    "class Directory:\n",
    "    \"\"\"Keep a mapping of hosts to addresses.\"\"\"\n",
    "    __hosts: Dict[str, Set[str]]\n",
    "    \n",
    "    def __init__(self):\n",
    "        self.__hosts = {}\n",
    "        \n",
    "    def __repr__(self) -> str:\n",
    "        return f'<Directory of {len(self.__hosts)} hosts>'\n",
    "        \n",
    "    def __str__(self) -> str:\n",
    "        lines = [f'Directory of {len(self.__hosts)} hosts']\n",
    "        for host, addresses in self.__hosts.items():\n",
    "            lines.append(f' - {host} => {addresses}')\n",
    "        return '\\n'.join(lines)\n",
    "        \n",
    "    def add_mapping(self, name: str, address: str) -> None:\n",
    "        if name not in self.__hosts:\n",
    "            self.__hosts[name] = set()\n",
    "        self.__hosts[name].add(address)\n",
    "        \n",
    "    def remove_mapping(self, name: str, address: str) -> None:\n",
    "        if name in self.__hosts:\n",
    "            self.__hosts[name].discard(address)\n",
    "            \n",
    "    def resolve(self, name: str) -> Union[str, Set[str]]:\n",
    "        if name in self.__hosts:\n",
    "            return self.__hosts[name]\n",
    "        else:\n",
    "            return 'NXDOMAIN'\n",
    "        \n",
    "d = Directory()\n",
    "d.add_mapping('swim', {'123.45.67.89'})\n",
    "d.remove_mapping('swim')\n",
    "\n",
    "print(55 + str(d))"
   ]
  },
  {
   "cell_type": "code",
   "execution_count": 13,
   "metadata": {},
   "outputs": [
    {
     "name": "stdout",
     "output_type": "stream",
     "text": [
      "data/mypy/directory3.py:35: \u001b[1m\u001b[31merror:\u001b[m Argument 2 to \u001b[m\u001b[1m\"add_mapping\"\u001b[m of \u001b[m\u001b[1m\"Directory\"\u001b[m has incompatible type \u001b[m\u001b[1m\"Set[str]\"\u001b[m; expected \u001b[m\u001b[1m\"str\"\u001b[m\u001b[m\r\n",
      "data/mypy/directory3.py:36: \u001b[1m\u001b[31merror:\u001b[m Missing positional argument \u001b[m\u001b[1m\"address\"\u001b[m in call to \u001b[m\u001b[1m\"remove_mapping\"\u001b[m of \u001b[m\u001b[1m\"Directory\"\u001b[m\u001b[m\r\n",
      "data/mypy/directory3.py:38: \u001b[1m\u001b[31merror:\u001b[m Unsupported operand types for + (\u001b[m\u001b[1m\"int\"\u001b[m and \u001b[m\u001b[1m\"str\"\u001b[m)\u001b[m\r\n",
      "\u001b[1m\u001b[31mFound 3 errors in 1 file (checked 1 source file)\u001b[m\r\n"
     ]
    }
   ],
   "source": [
    "!mypy data/mypy/directory3.py"
   ]
  },
  {
   "cell_type": "markdown",
   "metadata": {},
   "source": [
    "https://pydantic-docs.helpmanual.io/"
   ]
  },
  {
   "cell_type": "code",
   "execution_count": null,
   "metadata": {},
   "outputs": [],
   "source": []
  }
 ],
 "metadata": {
  "kernelspec": {
   "display_name": "Python 3",
   "language": "python",
   "name": "python3"
  },
  "language_info": {
   "codemirror_mode": {
    "name": "ipython",
    "version": 3
   },
   "file_extension": ".py",
   "mimetype": "text/x-python",
   "name": "python",
   "nbconvert_exporter": "python",
   "pygments_lexer": "ipython3",
   "version": "3.8.5"
  }
 },
 "nbformat": 4,
 "nbformat_minor": 4
}
