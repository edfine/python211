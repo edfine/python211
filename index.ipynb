{
 "cells": [
  {
   "cell_type": "markdown",
   "metadata": {},
   "source": [
    "# Intermediate Python\n",
    "\n",
    "Ed Fine<br/>\n",
    "edward.fine@afinepoint.net<br/>\n",
    "\n",
    "Schedule\n",
    "\n",
    "Class times: 09:30 - 05:00 (Central)\n",
    "\n",
    "Lunch: 12:00 - 1:00\n",
    "\n",
    "In addition to labs, breaks every ~60-90min\n",
    "\n",
    "## Courseware\n",
    "\n",
    "https://github.com/edfine/python201\n",
    "\n",
    "1. Clone the repo\n",
    "2. Open the file `index.html` in a browser to see this file."
   ]
  },
  {
   "cell_type": "markdown",
   "metadata": {},
   "source": [
    "# While we are waiting to start\n",
    "\n",
    "We use Jupyter notebook ([html][jupyter-html] or [ipynb][jupyter-nb]) for the courseware, so ensuring you can run it will allow you to follow along.\n",
    "\n",
    "If you use Pip, you can use the pip setup instructions ([html][setup-pip-html] or [ipynb][setup-pip-nb]).\n",
    "\n",
    "If you use Anaconda (or wish to), you can use the Anaconda setup instructions ([html][setup-anaconda-html] or [ipynb][setup-anaconda-nb])\n",
    "\n",
    "[jupyter-html]: ./jupyter.html\n",
    "[jupyter-nb]: ./jupyter.ipynb\n",
    "[setup-pip-html]: ./Setup-Pip.html\n",
    "[setup-pip-nb]: ./Setup-Pip.ipynb\n",
    "[setup-anaconda-html]: ./Setup-Anaconda.html\n",
    "[setup-anaconda-nb]: ./Setup-Anaconda.ipynb"
   ]
  },
  {
   "cell_type": "markdown",
   "metadata": {},
   "source": [
    "# About You and Me\n",
    "* What is your job title/what do you do?\n",
    "* Python experience? Other languages?\n",
    "* What do you want to get out of the course? (Particular topics?)\n",
    "* Pronouns?"
   ]
  },
  {
   "cell_type": "markdown",
   "metadata": {},
   "source": [
    "# (rough) Course Outline and Schedule\n",
    "\n",
    "## Day 1\n",
    "\n",
    "- [Jupyter, briefly][jupyter]\n",
    "- [Brief review of Core Python][fast-intro-python]\n",
    "  - (if necessary) [More detailed review of Core Python][core-syntax]\n",
    "- [Advanced Data Types][advanced-data-types]\n",
    "- [Virtual Environments][virtualenv]\n",
    "- [Functional Programming][functional]\n",
    "- [Closures and Decorators][closures]\n",
    "\n",
    "## Day 2\n",
    "\n",
    "- Object-Oriented Programming\n",
    "  - [Introduction][oop-intro]\n",
    "  - [Inheritance][oop-inheritance]\n",
    "  - [Magic Methods][oop-magic]\n",
    "  - [OOP Decorators][oop-decorators]\n",
    "- [Iteratables, Iterators, and Generators][iteration]\n",
    "\n",
    "## Day 3\n",
    "- [Context Managers][context]\n",
    "- [Logging][logging]\n",
    "- [Testing in Python][testing]\n",
    "  - [Mocking / DI][mock]\n",
    "- [Debugging with PDB][pdb]\n",
    "- [Mypy][mypy]\n",
    "- [Dataclasses][dataclasses]\n",
    "\n",
    "## Additional Topics (time permitting)\n",
    "- [Concurrency in Python: Multithreading and Multiprocessing][multithreading-multiprocessing]\n",
    "- [Introduction to Celery][celery]\n",
    "- [Using Sockets for lower-level network services][socket]\n",
    "- [RESTful][restful-intro]\n",
    "- [Using APIs][requests]\n",
    "- Building [APIs][flask-api] and [web UIs][flask-ui] with Flask\n",
    "- Pandas for tabular data\n",
    "  - [Intro, importing and exporting data][pandas-io]\n",
    "  - [Filtering and exploring data][pandas-exploration]\n",
    "  - [Merging and Concatenation][pandas-merging]\n",
    "  - [Data Aggregation][pandas-aggregation]\n",
    "- [NumPy][numpy] and [SciPy][scipy] for Numerical and Scientific Processing\n",
    "\n",
    "[jupyter]: ./jupyter.ipynb\n",
    "[fast-intro-python]: ./fast-intro-python.ipynb\n",
    "[core-syntax]: ./core-syntax.ipynb\n",
    "[advanced-data-types]: ./advanced-data-types.ipynb\n",
    "[virtualenv]: ./virtualenv.ipynb\n",
    "[functional]: ./functional.ipynb\n",
    "[closures]: ./closures.ipynb\n",
    "[oop-intro]: ./oop-intro.ipynb\n",
    "[oop-inheritance]: ./oop-inheritance.ipynb\n",
    "[oop-magic]: ./oop-magic.ipynb\n",
    "[oop-decorators]: ./oop-decorators.ipynb\n",
    "[iteration]: ./iteration.ipynb\n",
    "[context]: ./context.ipynb\n",
    "[logging]: ./logging.ipynb\n",
    "[testing]: ./unittest.ipynb\n",
    "[mock]: ./mock.ipynb\n",
    "[multithreading-multiprocessing]: ./multithreading-multiprocessing.ipynb\n",
    "[pdb]: ./pdb.ipynb\n",
    "[mypy]: ./mypy.ipynb\n",
    "[dataclasses]: ./dataclasses.ipynb\n",
    "[celery]: ./celery.ipynb\n",
    "[restful-intro]: ./restful-intro.ipynb\n",
    "[requests]: ./requests.ipynb\n",
    "[socket]: ./socket.ipynb\n",
    "[flask-api]: ./flask-api.ipynb\n",
    "[flask-ui]: ./flask-ui.ipynb\n",
    "[numpy]: ./numpy.ipynb\n",
    "[scipy]: ./scipy.ipynb\n",
    "[pandas-io]: ./pandas-io.ipynb\n",
    "[pandas-exploration]: ./pandas-exploration.ipynb\n",
    "[pandas-merging]: ./pandas-merging.ipynb\n",
    "[pandas-aggregation]: ./pandas-aggregation.ipynb\n",
    "\n"
   ]
  },
  {
   "cell_type": "code",
   "execution_count": null,
   "metadata": {},
   "outputs": [],
   "source": []
  }
 ],
 "metadata": {
  "kernelspec": {
   "display_name": "Python 3",
   "language": "python",
   "name": "python3"
  },
  "language_info": {
   "codemirror_mode": {
    "name": "ipython",
    "version": 3
   },
   "file_extension": ".py",
   "mimetype": "text/x-python",
   "name": "python",
   "nbconvert_exporter": "python",
   "pygments_lexer": "ipython3",
   "version": "3.8.8"
  },
  "vscode": {
   "interpreter": {
    "hash": "f5843dadf34720d1d49bd40b40c179895302ad51d2a706663a7036f5f983c84b"
   }
  }
 },
 "nbformat": 4,
 "nbformat_minor": 4
}
