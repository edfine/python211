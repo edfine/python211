{
 "cells": [
  {
   "cell_type": "markdown",
   "metadata": {},
   "source": [
    "# Jupyter, briefly\n",
    "\n",
    "- Web-based interface to several different programming languages, but started with Python\n",
    "- The Jupyter **server** is what started when you ran `jupyter notebook`\n",
    "- When you open (or create) a Notebook (`.ipynb`) file in Jupyter, the server starts a **kernel** (a Python interpreter dedicated to that notebook)\n",
    "- Notebooks are organized into **cells**, which may be either code (Python) or Markdown cells.\n",
    "- When you execute a Python cell, it is sent to the kernel, executed, and the notebook then shows the output of running the cell"
   ]
  },
  {
   "cell_type": "code",
   "execution_count": 1,
   "metadata": {},
   "outputs": [
    {
     "name": "stdout",
     "output_type": "stream",
     "text": [
      "Hello Class VILT on a Monday morning!\n"
     ]
    }
   ],
   "source": [
    "print('Hello Class VILT on a Monday morning!')"
   ]
  },
  {
   "cell_type": "code",
   "execution_count": 2,
   "metadata": {
    "scrolled": true
   },
   "outputs": [
    {
     "data": {
      "text/plain": [
       "16"
      ]
     },
     "execution_count": 2,
     "metadata": {},
     "output_type": "execute_result"
    }
   ],
   "source": [
    "5 + 11"
   ]
  },
  {
   "cell_type": "code",
   "execution_count": 3,
   "metadata": {
    "scrolled": true
   },
   "outputs": [
    {
     "data": {
      "text/plain": [
       "16"
      ]
     },
     "execution_count": 3,
     "metadata": {},
     "output_type": "execute_result"
    }
   ],
   "source": [
    "Out[2]"
   ]
  },
  {
   "cell_type": "code",
   "execution_count": 4,
   "metadata": {},
   "outputs": [
    {
     "data": {
      "text/plain": [
       "16"
      ]
     },
     "execution_count": 4,
     "metadata": {},
     "output_type": "execute_result"
    }
   ],
   "source": [
    "_2"
   ]
  },
  {
   "cell_type": "markdown",
   "metadata": {},
   "source": [
    "## Why Jupyter\n",
    "\n",
    "- Training (lets you walk through examples, change things, and keep a record of what you did)\n",
    "- Exploration of data / APIs where it's good to keep a record of what you did (data scientists love their notebooks!)\n",
    "- Prototyping an algorithm to be \"productionalized\" later"
   ]
  },
  {
   "cell_type": "markdown",
   "metadata": {},
   "source": [
    "## Why not Jupyter\n",
    "\n",
    "- Running in production\n",
    "- Not great with source control (notebooks are stored as JSON, which does not diff well)"
   ]
  },
  {
   "cell_type": "code",
   "execution_count": 8,
   "metadata": {},
   "outputs": [],
   "source": [
    "x = 15"
   ]
  },
  {
   "cell_type": "code",
   "execution_count": 6,
   "metadata": {},
   "outputs": [],
   "source": [
    "y = 250"
   ]
  },
  {
   "cell_type": "code",
   "execution_count": 7,
   "metadata": {},
   "outputs": [],
   "source": [
    "z = x + y"
   ]
  },
  {
   "cell_type": "code",
   "execution_count": 9,
   "metadata": {},
   "outputs": [
    {
     "data": {
      "text/plain": [
       "400"
      ]
     },
     "execution_count": 9,
     "metadata": {},
     "output_type": "execute_result"
    }
   ],
   "source": [
    "z"
   ]
  },
  {
   "cell_type": "markdown",
   "metadata": {},
   "source": [
    "## \"Restart and run all,\" or it didn't happen\n",
    "\n",
    "- You can run cells out of order as you're exploring. It's a good idea to run everything top to bottom when you're done to make sure you didn't delete any steps"
   ]
  },
  {
   "cell_type": "markdown",
   "metadata": {},
   "source": [
    "## Getting help\n",
    "\n",
    "#### See possible completions with `<TAB>`\n",
    "\n",
    "```ipython\n",
    "In [0]: from email import <TAB>\n",
    "```"
   ]
  },
  {
   "cell_type": "code",
   "execution_count": 10,
   "metadata": {},
   "outputs": [],
   "source": [
    "from email.mime.multipart import MIMEMultipart"
   ]
  },
  {
   "cell_type": "markdown",
   "metadata": {},
   "source": [
    "#### See function arguments by holding down shift and hitting `<TAB>`:\n",
    "    \n",
    "- one time: pops up simplified help\n",
    "- two times: expands simplified help\n",
    "- four times: brings up full help for function you're calling\n"
   ]
  },
  {
   "cell_type": "code",
   "execution_count": 11,
   "metadata": {},
   "outputs": [],
   "source": [
    "import os"
   ]
  },
  {
   "cell_type": "code",
   "execution_count": null,
   "metadata": {},
   "outputs": [],
   "source": [
    "os.open()"
   ]
  },
  {
   "cell_type": "code",
   "execution_count": 12,
   "metadata": {},
   "outputs": [
    {
     "name": "stdout",
     "output_type": "stream",
     "text": [
      "Help on built-in function open in module posix:\n",
      "\n",
      "open(path, flags, mode=511, *, dir_fd=None)\n",
      "    Open a file for low level IO.  Returns a file descriptor (integer).\n",
      "    \n",
      "    If dir_fd is not None, it should be a file descriptor open to a directory,\n",
      "      and path should be relative; path will then be relative to that directory.\n",
      "    dir_fd may not be implemented on your platform.\n",
      "      If it is unavailable, using it will raise a NotImplementedError.\n",
      "\n"
     ]
    }
   ],
   "source": [
    "help(os.open)"
   ]
  },
  {
   "cell_type": "code",
   "execution_count": 13,
   "metadata": {},
   "outputs": [],
   "source": [
    "# Jupyter-only syntax (not valid Python)\n",
    "os.open?"
   ]
  },
  {
   "cell_type": "markdown",
   "metadata": {},
   "source": [
    "\n",
    "#### Bring up help on an object\n",
    "\n",
    "To bring up help:\n",
    "\n",
    "```ipython\n",
    "In [0]: my_function?\n",
    "```\n",
    "\n",
    "To bring up help with source code if available:\n",
    "\n",
    "```ipython\n",
    "In [0]: my_function??\n",
    "```"
   ]
  },
  {
   "cell_type": "code",
   "execution_count": 14,
   "metadata": {},
   "outputs": [],
   "source": [
    "def fun():\n",
    "    'Docstring'\n",
    "    print('This is my function')"
   ]
  },
  {
   "cell_type": "code",
   "execution_count": 15,
   "metadata": {},
   "outputs": [
    {
     "name": "stdout",
     "output_type": "stream",
     "text": [
      "Help on function fun in module __main__:\n",
      "\n",
      "fun()\n",
      "    Docstring\n",
      "\n"
     ]
    }
   ],
   "source": [
    "help(fun)"
   ]
  },
  {
   "cell_type": "code",
   "execution_count": 16,
   "metadata": {},
   "outputs": [],
   "source": [
    "# Jupyter-only syntax (not valid Python)\n",
    "fun?"
   ]
  },
  {
   "cell_type": "code",
   "execution_count": 17,
   "metadata": {},
   "outputs": [],
   "source": [
    "# Jupyter-only syntax (not valid Python)\n",
    "fun??"
   ]
  },
  {
   "cell_type": "code",
   "execution_count": 18,
   "metadata": {},
   "outputs": [],
   "source": [
    "import random\n",
    "random.shuffle??"
   ]
  },
  {
   "cell_type": "markdown",
   "metadata": {},
   "source": [
    "#### To get a list of all the %magic commands\n",
    "\n",
    "```ipython\n",
    "In [0]: %magic\n",
    "```\n",
    "\n",
    "One `%` applies to the current line\n",
    "\n",
    "Two `%%` applies to the whole input cell"
   ]
  },
  {
   "cell_type": "markdown",
   "metadata": {},
   "source": [
    "#"
   ]
  },
  {
   "cell_type": "markdown",
   "metadata": {},
   "source": [
    "#"
   ]
  },
  {
   "cell_type": "markdown",
   "metadata": {},
   "source": [
    "#"
   ]
  },
  {
   "cell_type": "code",
   "execution_count": 21,
   "metadata": {},
   "outputs": [],
   "source": [
    "%magic"
   ]
  },
  {
   "cell_type": "code",
   "execution_count": 19,
   "metadata": {},
   "outputs": [
    {
     "data": {
      "application/json": {
       "cell": {
        "!": "OSMagics",
        "HTML": "Other",
        "SVG": "Other",
        "bash": "Other",
        "capture": "ExecutionMagics",
        "debug": "ExecutionMagics",
        "file": "Other",
        "html": "DisplayMagics",
        "javascript": "DisplayMagics",
        "js": "DisplayMagics",
        "latex": "DisplayMagics",
        "markdown": "DisplayMagics",
        "perl": "Other",
        "prun": "ExecutionMagics",
        "pypy": "Other",
        "python": "Other",
        "python2": "Other",
        "python3": "Other",
        "ruby": "Other",
        "script": "ScriptMagics",
        "sh": "Other",
        "svg": "DisplayMagics",
        "sx": "OSMagics",
        "system": "OSMagics",
        "time": "ExecutionMagics",
        "timeit": "ExecutionMagics",
        "writefile": "OSMagics"
       },
       "line": {
        "alias": "OSMagics",
        "alias_magic": "BasicMagics",
        "autoawait": "AsyncMagics",
        "autocall": "AutoMagics",
        "automagic": "AutoMagics",
        "autosave": "KernelMagics",
        "bookmark": "OSMagics",
        "cat": "Other",
        "cd": "OSMagics",
        "clear": "KernelMagics",
        "colors": "BasicMagics",
        "conda": "PackagingMagics",
        "config": "ConfigMagics",
        "connect_info": "KernelMagics",
        "cp": "Other",
        "debug": "ExecutionMagics",
        "dhist": "OSMagics",
        "dirs": "OSMagics",
        "doctest_mode": "BasicMagics",
        "ed": "Other",
        "edit": "KernelMagics",
        "env": "OSMagics",
        "gui": "BasicMagics",
        "hist": "Other",
        "history": "HistoryMagics",
        "killbgscripts": "ScriptMagics",
        "ldir": "Other",
        "less": "KernelMagics",
        "lf": "Other",
        "lk": "Other",
        "ll": "Other",
        "load": "CodeMagics",
        "load_ext": "ExtensionMagics",
        "loadpy": "CodeMagics",
        "logoff": "LoggingMagics",
        "logon": "LoggingMagics",
        "logstart": "LoggingMagics",
        "logstate": "LoggingMagics",
        "logstop": "LoggingMagics",
        "ls": "Other",
        "lsmagic": "BasicMagics",
        "lx": "Other",
        "macro": "ExecutionMagics",
        "magic": "BasicMagics",
        "man": "KernelMagics",
        "matplotlib": "PylabMagics",
        "mkdir": "Other",
        "more": "KernelMagics",
        "mv": "Other",
        "notebook": "BasicMagics",
        "page": "BasicMagics",
        "pastebin": "CodeMagics",
        "pdb": "ExecutionMagics",
        "pdef": "NamespaceMagics",
        "pdoc": "NamespaceMagics",
        "pfile": "NamespaceMagics",
        "pinfo": "NamespaceMagics",
        "pinfo2": "NamespaceMagics",
        "pip": "PackagingMagics",
        "popd": "OSMagics",
        "pprint": "BasicMagics",
        "precision": "BasicMagics",
        "prun": "ExecutionMagics",
        "psearch": "NamespaceMagics",
        "psource": "NamespaceMagics",
        "pushd": "OSMagics",
        "pwd": "OSMagics",
        "pycat": "OSMagics",
        "pylab": "PylabMagics",
        "qtconsole": "KernelMagics",
        "quickref": "BasicMagics",
        "recall": "HistoryMagics",
        "rehashx": "OSMagics",
        "reload_ext": "ExtensionMagics",
        "rep": "Other",
        "rerun": "HistoryMagics",
        "reset": "NamespaceMagics",
        "reset_selective": "NamespaceMagics",
        "rm": "Other",
        "rmdir": "Other",
        "run": "ExecutionMagics",
        "save": "CodeMagics",
        "sc": "OSMagics",
        "set_env": "OSMagics",
        "store": "StoreMagics",
        "sx": "OSMagics",
        "system": "OSMagics",
        "tb": "ExecutionMagics",
        "time": "ExecutionMagics",
        "timeit": "ExecutionMagics",
        "unalias": "OSMagics",
        "unload_ext": "ExtensionMagics",
        "who": "NamespaceMagics",
        "who_ls": "NamespaceMagics",
        "whos": "NamespaceMagics",
        "xdel": "NamespaceMagics",
        "xmode": "BasicMagics"
       }
      },
      "text/plain": [
       "Available line magics:\n",
       "%alias  %alias_magic  %autoawait  %autocall  %automagic  %autosave  %bookmark  %cat  %cd  %clear  %colors  %conda  %config  %connect_info  %cp  %debug  %dhist  %dirs  %doctest_mode  %ed  %edit  %env  %gui  %hist  %history  %killbgscripts  %ldir  %less  %lf  %lk  %ll  %load  %load_ext  %loadpy  %logoff  %logon  %logstart  %logstate  %logstop  %ls  %lsmagic  %lx  %macro  %magic  %man  %matplotlib  %mkdir  %more  %mv  %notebook  %page  %pastebin  %pdb  %pdef  %pdoc  %pfile  %pinfo  %pinfo2  %pip  %popd  %pprint  %precision  %prun  %psearch  %psource  %pushd  %pwd  %pycat  %pylab  %qtconsole  %quickref  %recall  %rehashx  %reload_ext  %rep  %rerun  %reset  %reset_selective  %rm  %rmdir  %run  %save  %sc  %set_env  %store  %sx  %system  %tb  %time  %timeit  %unalias  %unload_ext  %who  %who_ls  %whos  %xdel  %xmode\n",
       "\n",
       "Available cell magics:\n",
       "%%!  %%HTML  %%SVG  %%bash  %%capture  %%debug  %%file  %%html  %%javascript  %%js  %%latex  %%markdown  %%perl  %%prun  %%pypy  %%python  %%python2  %%python3  %%ruby  %%script  %%sh  %%svg  %%sx  %%system  %%time  %%timeit  %%writefile\n",
       "\n",
       "Automagic is ON, % prefix IS NOT needed for line magics."
      ]
     },
     "execution_count": 19,
     "metadata": {},
     "output_type": "execute_result"
    }
   ],
   "source": [
    "%lsmagic"
   ]
  },
  {
   "cell_type": "markdown",
   "metadata": {},
   "source": [
    "# Interacting with the shell"
   ]
  },
  {
   "cell_type": "code",
   "execution_count": 4,
   "metadata": {
    "slideshow": {
     "slide_type": "-"
    }
   },
   "outputs": [
    {
     "name": "stdout",
     "output_type": "stream",
     "text": [
      "['edwardfine']\n"
     ]
    }
   ],
   "source": [
    "# Not valid python\n",
    "x = !whoami\n",
    "print(x)"
   ]
  },
  {
   "cell_type": "code",
   "execution_count": 5,
   "metadata": {},
   "outputs": [
    {
     "name": "stdout",
     "output_type": "stream",
     "text": [
      "-rw-r--r--@ 1 edwardfine  staff    2438 Oct 31 11:15 Setup-Anaconda.ipynb\n",
      "-rw-r--r--@ 1 edwardfine  staff    5138 Oct 31 11:14 Setup-Pip.ipynb\n",
      "-rw-r--r--@ 1 edwardfine  staff   17850 Jun 16 05:56 advanced-data-types-lab-solution.ipynb\n",
      "-rw-r--r--@ 1 edwardfine  staff    3985 Jun 16 05:56 advanced-data-types-lab.ipynb\n",
      "-rw-r--r--@ 1 edwardfine  staff   57394 Jun 16 05:56 advanced-data-types.ipynb\n",
      "-rw-r--r--@ 1 edwardfine  staff    4986 Jun 16 05:56 celery-lab-solution.ipynb\n",
      "-rw-r--r--@ 1 edwardfine  staff    1039 Jun 16 05:56 celery-lab.ipynb\n",
      "-rw-r--r--@ 1 edwardfine  staff   30219 Jun 16 05:56 celery.ipynb\n",
      "-rw-r--r--@ 1 edwardfine  staff   11055 Jun 16 05:56 closures-lab-solution.ipynb\n",
      "-rw-r--r--@ 1 edwardfine  staff    3195 Jun 16 05:56 closures-lab.ipynb\n",
      "-rw-r--r--@ 1 edwardfine  staff   28491 Jun 16 05:56 closures.ipynb\n",
      "-rw-r--r--@ 1 edwardfine  staff   11013 Jun 16 05:56 context-lab-solution.ipynb\n",
      "-rw-r--r--@ 1 edwardfine  staff    1910 Jun 16 05:56 context-lab.ipynb\n",
      "-rw-r--r--@ 1 edwardfine  staff   18377 Jun 16 05:56 context.ipynb\n",
      "-rw-r--r--@ 1 edwardfine  staff    6831 Jun 16 05:56 core-syntax-lab-solution.ipynb\n",
      "-rw-r--r--@ 1 edwardfine  staff    2418 Jun 16 05:56 core-syntax-lab.ipynb\n",
      "-rw-r--r--@ 1 edwardfine  staff  110654 Jun 16 05:56 core-syntax.ipynb\n",
      "-rw-r--r--@ 1 edwardfine  staff   24373 Jun 16 05:56 dataclasses.ipynb\n",
      "-rw-r--r--@ 1 edwardfine  staff   70102 Jun 16 05:56 fast-intro-python.ipynb\n",
      "-rw-r--r--@ 1 edwardfine  staff   40019 Jun 16 05:56 flask-api-lab-solution.ipynb\n",
      "-rw-r--r--@ 1 edwardfine  staff    1399 Jun 16 05:56 flask-api-lab.ipynb\n",
      "-rw-r--r--@ 1 edwardfine  staff   40930 Jun 16 05:56 flask-api.ipynb\n",
      "-rw-r--r--@ 1 edwardfine  staff    7114 Jun 16 05:56 flask-ui-lab-solution.ipynb\n",
      "-rw-r--r--@ 1 edwardfine  staff     766 Jun 16 05:56 flask-ui-lab.ipynb\n",
      "-rw-r--r--@ 1 edwardfine  staff   16308 Jun 16 05:56 flask-ui.ipynb\n",
      "-rw-r--r--@ 1 edwardfine  staff   21237 Jun 16 05:56 functional-lab-solution.ipynb\n",
      "-rw-r--r--@ 1 edwardfine  staff    3085 Jun 16 05:56 functional-lab.ipynb\n",
      "-rw-r--r--@ 1 edwardfine  staff   38707 Jun 16 05:56 functional.ipynb\n",
      "-rw-r--r--@ 1 edwardfine  staff    5670 Oct 31 14:44 index.ipynb\n",
      "-rw-r--r--@ 1 edwardfine  staff    2846 Jun 16 05:56 iteration-lab-rc.ipynb\n",
      "-rw-r--r--@ 1 edwardfine  staff    9483 Jun 16 05:56 iteration-lab-solution.ipynb\n",
      "-rw-r--r--@ 1 edwardfine  staff    2182 Jun 16 05:56 iteration-lab.ipynb\n",
      "-rw-r--r--@ 1 edwardfine  staff  269986 Jun 16 05:56 iteration.ipynb\n",
      "-rw-r--r--@ 1 edwardfine  staff   31866 Oct 31 14:45 jupyter.ipynb\n",
      "-rw-r--r--@ 1 edwardfine  staff    6508 Jun 16 05:56 logging-lab-solution.ipynb\n",
      "-rw-r--r--@ 1 edwardfine  staff    1428 Jun 16 05:56 logging-lab.ipynb\n",
      "-rw-r--r--@ 1 edwardfine  staff   18304 Jun 16 05:56 logging.ipynb\n",
      "-rw-r--r--@ 1 edwardfine  staff   55315 Jun 16 05:56 mock.ipynb\n",
      "-rw-r--r--@ 1 edwardfine  staff   16095 Jun 16 05:56 multithreading-multiprocessing-lab-solution.ipynb\n",
      "-rw-r--r--@ 1 edwardfine  staff    3888 Jun 16 05:56 multithreading-multiprocessing-lab.ipynb\n",
      "-rw-r--r--@ 1 edwardfine  staff   33272 Jun 16 05:56 multithreading-multiprocessing.ipynb\n",
      "-rw-r--r--@ 1 edwardfine  staff   11859 Jun 16 05:56 mypy.ipynb\n",
      "-rw-r--r--@ 1 edwardfine  staff   20829 Jun 16 05:56 numpy-lab-solution.ipynb\n",
      "-rw-r--r--@ 1 edwardfine  staff    6011 Jun 16 05:56 numpy-lab.ipynb\n",
      "-rw-r--r--@ 1 edwardfine  staff   55209 Jun 16 05:56 numpy.ipynb\n",
      "-rw-r--r--@ 1 edwardfine  staff    6952 Jun 16 05:56 oop-decorators-lab-solution.ipynb\n",
      "-rw-r--r--@ 1 edwardfine  staff    1853 Jun 16 05:56 oop-decorators-lab.ipynb\n",
      "-rw-r--r--@ 1 edwardfine  staff   52299 Jun 16 05:56 oop-decorators.ipynb\n",
      "-rw-r--r--@ 1 edwardfine  staff    8797 Jun 16 05:56 oop-inheritance-lab-rc.ipynb\n",
      "-rw-r--r--@ 1 edwardfine  staff   10470 Jun 16 05:56 oop-inheritance-lab-solution.ipynb\n",
      "-rw-r--r--@ 1 edwardfine  staff    1876 Jun 16 05:56 oop-inheritance-lab.ipynb\n",
      "-rw-r--r--@ 1 edwardfine  staff   26127 Jun 16 05:56 oop-inheritance.ipynb\n",
      "-rw-r--r--@ 1 edwardfine  staff    9464 Jun 16 05:56 oop-intro-lab-rc.ipynb\n",
      "-rw-r--r--@ 1 edwardfine  staff   14625 Jun 16 05:56 oop-intro-lab-solution.ipynb\n",
      "-rw-r--r--@ 1 edwardfine  staff    5810 Jun 16 05:56 oop-intro-lab.ipynb\n",
      "-rw-r--r--@ 1 edwardfine  staff   36800 Jun 16 05:56 oop-intro.ipynb\n",
      "-rw-r--r--@ 1 edwardfine  staff   13361 Jun 16 05:56 oop-magic-lab-rc.ipynb\n",
      "-rw-r--r--@ 1 edwardfine  staff   18870 Jun 16 05:56 oop-magic-lab-solution.ipynb\n",
      "-rw-r--r--@ 1 edwardfine  staff    4865 Oct 31 11:19 oop-magic-lab.ipynb\n",
      "-rw-r--r--@ 1 edwardfine  staff   22346 Jun 16 05:56 oop-magic.ipynb\n",
      "-rw-r--r--@ 1 edwardfine  staff   47646 Jun 16 05:56 pandas-aggregation-lab-solution.ipynb\n",
      "-rw-r--r--@ 1 edwardfine  staff    1533 Jun 16 05:56 pandas-aggregation-lab.ipynb\n",
      "-rw-r--r--@ 1 edwardfine  staff   41370 Jun 16 05:56 pandas-aggregation.ipynb\n",
      "-rw-r--r--@ 1 edwardfine  staff   53490 Jun 16 05:56 pandas-exploration-lab-solution.ipynb\n",
      "-rw-r--r--@ 1 edwardfine  staff    2649 Jun 16 05:56 pandas-exploration-lab.ipynb\n",
      "-rw-r--r--@ 1 edwardfine  staff  125735 Jun 16 05:56 pandas-exploration.ipynb\n",
      "-rw-r--r--@ 1 edwardfine  staff   23497 Jun 16 05:56 pandas-io-lab-solution.ipynb\n",
      "-rw-r--r--@ 1 edwardfine  staff    3608 Jun 16 05:56 pandas-io-lab.ipynb\n",
      "-rw-r--r--@ 1 edwardfine  staff  287261 Jun 16 05:56 pandas-io.ipynb\n",
      "-rw-r--r--@ 1 edwardfine  staff   14209 Jun 16 05:56 pandas-merging-lab-solution.ipynb\n",
      "-rw-r--r--@ 1 edwardfine  staff    1640 Jun 16 05:56 pandas-merging-lab.ipynb\n",
      "-rw-r--r--@ 1 edwardfine  staff   48200 Jun 16 05:56 pandas-merging.ipynb\n",
      "-rw-r--r--@ 1 edwardfine  staff   26143 Jun 16 05:56 pdb-lab-solution.ipynb\n",
      "-rw-r--r--@ 1 edwardfine  staff    2317 Jun 16 05:56 pdb-lab.ipynb\n",
      "-rw-r--r--@ 1 edwardfine  staff   54789 Jun 16 05:56 pdb.ipynb\n",
      "-rw-r--r--@ 1 edwardfine  staff   33309 Jun 16 05:56 pyatl-demystifying-decorators.ipynb\n",
      "-rw-r--r--@ 1 edwardfine  staff  129555 Jun 16 05:56 requests-lab-solution.ipynb\n",
      "-rw-r--r--@ 1 edwardfine  staff    2145 Jun 16 05:56 requests-lab.ipynb\n",
      "-rw-r--r--@ 1 edwardfine  staff  183270 Jun 16 05:56 requests.ipynb\n",
      "-rw-r--r--@ 1 edwardfine  staff   10057 Jun 16 05:56 restful-intro.ipynb\n",
      "-rw-r--r--@ 1 edwardfine  staff   73224 Jun 16 05:56 scipy-lab-solution.ipynb\n",
      "-rw-r--r--@ 1 edwardfine  staff    3778 Jun 16 05:56 scipy-lab.ipynb\n",
      "-rw-r--r--@ 1 edwardfine  staff  530360 Jun 16 05:56 scipy.ipynb\n",
      "-rw-r--r--@ 1 edwardfine  staff    5579 Jun 16 05:56 socket-lab-solution.ipynb\n",
      "-rw-r--r--@ 1 edwardfine  staff    1113 Jun 16 05:56 socket-lab.ipynb\n",
      "-rw-r--r--@ 1 edwardfine  staff   41707 Jun 16 05:56 socket.ipynb\n",
      "-rw-r--r--@ 1 edwardfine  staff   16978 Jun 16 05:56 unittest-lab-solution.ipynb\n",
      "-rw-r--r--@ 1 edwardfine  staff    2045 Jun 16 05:56 unittest-lab.ipynb\n",
      "-rw-r--r--@ 1 edwardfine  staff   48716 Jun 16 05:56 unittest.ipynb\n",
      "-rw-r--r--@ 1 edwardfine  staff    1932 Jun 16 05:56 virtualenv-lab.ipynb\n",
      "-rw-r--r--@ 1 edwardfine  staff   63799 Jun 16 05:56 virtualenv.ipynb\n"
     ]
    }
   ],
   "source": [
    "pattern = '*.ipynb'\n",
    "!ls -l {pattern}"
   ]
  },
  {
   "cell_type": "code",
   "execution_count": 6,
   "metadata": {},
   "outputs": [],
   "source": [
    "pattern = '*.ipynb'\n",
    "filenames = !ls -l {pattern}"
   ]
  },
  {
   "cell_type": "code",
   "execution_count": 7,
   "metadata": {},
   "outputs": [
    {
     "data": {
      "text/plain": [
       "['-rw-r--r--@ 1 edwardfine  staff    2438 Oct 31 11:15 Setup-Anaconda.ipynb',\n",
       " '-rw-r--r--@ 1 edwardfine  staff    5138 Oct 31 11:14 Setup-Pip.ipynb',\n",
       " '-rw-r--r--@ 1 edwardfine  staff   17850 Jun 16 05:56 advanced-data-types-lab-solution.ipynb',\n",
       " '-rw-r--r--@ 1 edwardfine  staff    3985 Jun 16 05:56 advanced-data-types-lab.ipynb',\n",
       " '-rw-r--r--@ 1 edwardfine  staff   57394 Jun 16 05:56 advanced-data-types.ipynb',\n",
       " '-rw-r--r--@ 1 edwardfine  staff    4986 Jun 16 05:56 celery-lab-solution.ipynb',\n",
       " '-rw-r--r--@ 1 edwardfine  staff    1039 Jun 16 05:56 celery-lab.ipynb',\n",
       " '-rw-r--r--@ 1 edwardfine  staff   30219 Jun 16 05:56 celery.ipynb',\n",
       " '-rw-r--r--@ 1 edwardfine  staff   11055 Jun 16 05:56 closures-lab-solution.ipynb',\n",
       " '-rw-r--r--@ 1 edwardfine  staff    3195 Jun 16 05:56 closures-lab.ipynb',\n",
       " '-rw-r--r--@ 1 edwardfine  staff   28491 Jun 16 05:56 closures.ipynb',\n",
       " '-rw-r--r--@ 1 edwardfine  staff   11013 Jun 16 05:56 context-lab-solution.ipynb',\n",
       " '-rw-r--r--@ 1 edwardfine  staff    1910 Jun 16 05:56 context-lab.ipynb',\n",
       " '-rw-r--r--@ 1 edwardfine  staff   18377 Jun 16 05:56 context.ipynb',\n",
       " '-rw-r--r--@ 1 edwardfine  staff    6831 Jun 16 05:56 core-syntax-lab-solution.ipynb',\n",
       " '-rw-r--r--@ 1 edwardfine  staff    2418 Jun 16 05:56 core-syntax-lab.ipynb',\n",
       " '-rw-r--r--@ 1 edwardfine  staff  110654 Jun 16 05:56 core-syntax.ipynb',\n",
       " '-rw-r--r--@ 1 edwardfine  staff   24373 Jun 16 05:56 dataclasses.ipynb',\n",
       " '-rw-r--r--@ 1 edwardfine  staff   70102 Jun 16 05:56 fast-intro-python.ipynb',\n",
       " '-rw-r--r--@ 1 edwardfine  staff   40019 Jun 16 05:56 flask-api-lab-solution.ipynb',\n",
       " '-rw-r--r--@ 1 edwardfine  staff    1399 Jun 16 05:56 flask-api-lab.ipynb',\n",
       " '-rw-r--r--@ 1 edwardfine  staff   40930 Jun 16 05:56 flask-api.ipynb',\n",
       " '-rw-r--r--@ 1 edwardfine  staff    7114 Jun 16 05:56 flask-ui-lab-solution.ipynb',\n",
       " '-rw-r--r--@ 1 edwardfine  staff     766 Jun 16 05:56 flask-ui-lab.ipynb',\n",
       " '-rw-r--r--@ 1 edwardfine  staff   16308 Jun 16 05:56 flask-ui.ipynb',\n",
       " '-rw-r--r--@ 1 edwardfine  staff   21237 Jun 16 05:56 functional-lab-solution.ipynb',\n",
       " '-rw-r--r--@ 1 edwardfine  staff    3085 Jun 16 05:56 functional-lab.ipynb',\n",
       " '-rw-r--r--@ 1 edwardfine  staff   38707 Jun 16 05:56 functional.ipynb',\n",
       " '-rw-r--r--@ 1 edwardfine  staff    5670 Oct 31 14:44 index.ipynb',\n",
       " '-rw-r--r--@ 1 edwardfine  staff    2846 Jun 16 05:56 iteration-lab-rc.ipynb',\n",
       " '-rw-r--r--@ 1 edwardfine  staff    9483 Jun 16 05:56 iteration-lab-solution.ipynb',\n",
       " '-rw-r--r--@ 1 edwardfine  staff    2182 Jun 16 05:56 iteration-lab.ipynb',\n",
       " '-rw-r--r--@ 1 edwardfine  staff  269986 Jun 16 05:56 iteration.ipynb',\n",
       " '-rw-r--r--@ 1 edwardfine  staff   31866 Oct 31 14:45 jupyter.ipynb',\n",
       " '-rw-r--r--@ 1 edwardfine  staff    6508 Jun 16 05:56 logging-lab-solution.ipynb',\n",
       " '-rw-r--r--@ 1 edwardfine  staff    1428 Jun 16 05:56 logging-lab.ipynb',\n",
       " '-rw-r--r--@ 1 edwardfine  staff   18304 Jun 16 05:56 logging.ipynb',\n",
       " '-rw-r--r--@ 1 edwardfine  staff   55315 Jun 16 05:56 mock.ipynb',\n",
       " '-rw-r--r--@ 1 edwardfine  staff   16095 Jun 16 05:56 multithreading-multiprocessing-lab-solution.ipynb',\n",
       " '-rw-r--r--@ 1 edwardfine  staff    3888 Jun 16 05:56 multithreading-multiprocessing-lab.ipynb',\n",
       " '-rw-r--r--@ 1 edwardfine  staff   33272 Jun 16 05:56 multithreading-multiprocessing.ipynb',\n",
       " '-rw-r--r--@ 1 edwardfine  staff   11859 Jun 16 05:56 mypy.ipynb',\n",
       " '-rw-r--r--@ 1 edwardfine  staff   20829 Jun 16 05:56 numpy-lab-solution.ipynb',\n",
       " '-rw-r--r--@ 1 edwardfine  staff    6011 Jun 16 05:56 numpy-lab.ipynb',\n",
       " '-rw-r--r--@ 1 edwardfine  staff   55209 Jun 16 05:56 numpy.ipynb',\n",
       " '-rw-r--r--@ 1 edwardfine  staff    6952 Jun 16 05:56 oop-decorators-lab-solution.ipynb',\n",
       " '-rw-r--r--@ 1 edwardfine  staff    1853 Jun 16 05:56 oop-decorators-lab.ipynb',\n",
       " '-rw-r--r--@ 1 edwardfine  staff   52299 Jun 16 05:56 oop-decorators.ipynb',\n",
       " '-rw-r--r--@ 1 edwardfine  staff    8797 Jun 16 05:56 oop-inheritance-lab-rc.ipynb',\n",
       " '-rw-r--r--@ 1 edwardfine  staff   10470 Jun 16 05:56 oop-inheritance-lab-solution.ipynb',\n",
       " '-rw-r--r--@ 1 edwardfine  staff    1876 Jun 16 05:56 oop-inheritance-lab.ipynb',\n",
       " '-rw-r--r--@ 1 edwardfine  staff   26127 Jun 16 05:56 oop-inheritance.ipynb',\n",
       " '-rw-r--r--@ 1 edwardfine  staff    9464 Jun 16 05:56 oop-intro-lab-rc.ipynb',\n",
       " '-rw-r--r--@ 1 edwardfine  staff   14625 Jun 16 05:56 oop-intro-lab-solution.ipynb',\n",
       " '-rw-r--r--@ 1 edwardfine  staff    5810 Jun 16 05:56 oop-intro-lab.ipynb',\n",
       " '-rw-r--r--@ 1 edwardfine  staff   36800 Jun 16 05:56 oop-intro.ipynb',\n",
       " '-rw-r--r--@ 1 edwardfine  staff   13361 Jun 16 05:56 oop-magic-lab-rc.ipynb',\n",
       " '-rw-r--r--@ 1 edwardfine  staff   18870 Jun 16 05:56 oop-magic-lab-solution.ipynb',\n",
       " '-rw-r--r--@ 1 edwardfine  staff    4865 Oct 31 11:19 oop-magic-lab.ipynb',\n",
       " '-rw-r--r--@ 1 edwardfine  staff   22346 Jun 16 05:56 oop-magic.ipynb',\n",
       " '-rw-r--r--@ 1 edwardfine  staff   47646 Jun 16 05:56 pandas-aggregation-lab-solution.ipynb',\n",
       " '-rw-r--r--@ 1 edwardfine  staff    1533 Jun 16 05:56 pandas-aggregation-lab.ipynb',\n",
       " '-rw-r--r--@ 1 edwardfine  staff   41370 Jun 16 05:56 pandas-aggregation.ipynb',\n",
       " '-rw-r--r--@ 1 edwardfine  staff   53490 Jun 16 05:56 pandas-exploration-lab-solution.ipynb',\n",
       " '-rw-r--r--@ 1 edwardfine  staff    2649 Jun 16 05:56 pandas-exploration-lab.ipynb',\n",
       " '-rw-r--r--@ 1 edwardfine  staff  125735 Jun 16 05:56 pandas-exploration.ipynb',\n",
       " '-rw-r--r--@ 1 edwardfine  staff   23497 Jun 16 05:56 pandas-io-lab-solution.ipynb',\n",
       " '-rw-r--r--@ 1 edwardfine  staff    3608 Jun 16 05:56 pandas-io-lab.ipynb',\n",
       " '-rw-r--r--@ 1 edwardfine  staff  287261 Jun 16 05:56 pandas-io.ipynb',\n",
       " '-rw-r--r--@ 1 edwardfine  staff   14209 Jun 16 05:56 pandas-merging-lab-solution.ipynb',\n",
       " '-rw-r--r--@ 1 edwardfine  staff    1640 Jun 16 05:56 pandas-merging-lab.ipynb',\n",
       " '-rw-r--r--@ 1 edwardfine  staff   48200 Jun 16 05:56 pandas-merging.ipynb',\n",
       " '-rw-r--r--@ 1 edwardfine  staff   26143 Jun 16 05:56 pdb-lab-solution.ipynb',\n",
       " '-rw-r--r--@ 1 edwardfine  staff    2317 Jun 16 05:56 pdb-lab.ipynb',\n",
       " '-rw-r--r--@ 1 edwardfine  staff   54789 Jun 16 05:56 pdb.ipynb',\n",
       " '-rw-r--r--@ 1 edwardfine  staff   33309 Jun 16 05:56 pyatl-demystifying-decorators.ipynb',\n",
       " '-rw-r--r--@ 1 edwardfine  staff  129555 Jun 16 05:56 requests-lab-solution.ipynb',\n",
       " '-rw-r--r--@ 1 edwardfine  staff    2145 Jun 16 05:56 requests-lab.ipynb',\n",
       " '-rw-r--r--@ 1 edwardfine  staff  183270 Jun 16 05:56 requests.ipynb',\n",
       " '-rw-r--r--@ 1 edwardfine  staff   10057 Jun 16 05:56 restful-intro.ipynb',\n",
       " '-rw-r--r--@ 1 edwardfine  staff   73224 Jun 16 05:56 scipy-lab-solution.ipynb',\n",
       " '-rw-r--r--@ 1 edwardfine  staff    3778 Jun 16 05:56 scipy-lab.ipynb',\n",
       " '-rw-r--r--@ 1 edwardfine  staff  530360 Jun 16 05:56 scipy.ipynb',\n",
       " '-rw-r--r--@ 1 edwardfine  staff    5579 Jun 16 05:56 socket-lab-solution.ipynb',\n",
       " '-rw-r--r--@ 1 edwardfine  staff    1113 Jun 16 05:56 socket-lab.ipynb',\n",
       " '-rw-r--r--@ 1 edwardfine  staff   41707 Jun 16 05:56 socket.ipynb',\n",
       " '-rw-r--r--@ 1 edwardfine  staff   16978 Jun 16 05:56 unittest-lab-solution.ipynb',\n",
       " '-rw-r--r--@ 1 edwardfine  staff    2045 Jun 16 05:56 unittest-lab.ipynb',\n",
       " '-rw-r--r--@ 1 edwardfine  staff   48716 Jun 16 05:56 unittest.ipynb',\n",
       " '-rw-r--r--@ 1 edwardfine  staff    1932 Jun 16 05:56 virtualenv-lab.ipynb',\n",
       " '-rw-r--r--@ 1 edwardfine  staff   63799 Jun 16 05:56 virtualenv.ipynb']"
      ]
     },
     "execution_count": 7,
     "metadata": {},
     "output_type": "execute_result"
    }
   ],
   "source": [
    "filenames"
   ]
  },
  {
   "cell_type": "code",
   "execution_count": 8,
   "metadata": {},
   "outputs": [
    {
     "name": "stdout",
     "output_type": "stream",
     "text": [
      "This is a little script\n",
      "Iteration 1\n",
      "Iteration 2\n",
      "Iteration 3\n",
      "edwardfine\n"
     ]
    }
   ],
   "source": [
    "%%bash\n",
    "echo \"This is a little script\"\n",
    "for i in $(seq 3); do\n",
    "    echo \"Iteration\" $i\n",
    "done\n",
    "whoami\n",
    "# say \"My name is faramir\""
   ]
  },
  {
   "cell_type": "code",
   "execution_count": null,
   "metadata": {},
   "outputs": [],
   "source": []
  }
 ],
 "metadata": {
  "kernelspec": {
   "display_name": "Python 3.8.10 ('deep_discovery')",
   "language": "python",
   "name": "python3"
  },
  "language_info": {
   "codemirror_mode": {
    "name": "ipython",
    "version": 3
   },
   "file_extension": ".py",
   "mimetype": "text/x-python",
   "name": "python",
   "nbconvert_exporter": "python",
   "pygments_lexer": "ipython3",
   "version": "3.8.10"
  },
  "vscode": {
   "interpreter": {
    "hash": "f5843dadf34720d1d49bd40b40c179895302ad51d2a706663a7036f5f983c84b"
   }
  }
 },
 "nbformat": 4,
 "nbformat_minor": 2
}
