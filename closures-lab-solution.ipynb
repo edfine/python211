{
 "cells": [
  {
   "cell_type": "markdown",
   "metadata": {},
   "source": [
    "# Lab: Decorators\n",
    "\n",
    "## Documentation redux\n",
    "\n",
    "Suppose we want to document our function, but we want to customize the message. \n",
    "For instance, if we write:\n",
    "\n",
    "```python\n",
    "@document(\"Calling {function.__name__} with {args} and {kwargs}\")\n",
    "def print_string(thestring):\n",
    "    print(thestring)\n",
    "    \n",
    "print_string(\"foo\")\n",
    "```\n",
    "\n",
    "we will get the following output:\n",
    "\n",
    "```\n",
    "Calling print_string with ('foo',) and {}\n",
    "foo\n",
    "```\n",
    "\n",
    "Write the `document` decorator, keeping in mind\n",
    "- you will need 3 (!) levels of nested functions\n",
    "- you can access the name of a function with the `__name__` attribute (e.g. `func.__name__`)"
   ]
  },
  {
   "cell_type": "markdown",
   "metadata": {},
   "source": [
    "```python\n",
    "from functools import wraps\n",
    "\n",
    "def myfactory(...):\n",
    "    def decorator(function):\n",
    "        @wraps(function)\n",
    "        def wrapper(*a, **kw):\n",
    "            ...\n",
    "            result = function(*a, **kw)\n",
    "            ...\n",
    "            return result\n",
    "        return wrapper\n",
    "    return decorator\n",
    "```"
   ]
  },
  {
   "cell_type": "code",
   "execution_count": null,
   "metadata": {},
   "outputs": [],
   "source": [
    "def document(message):\n",
    "    def decorator(function):\n",
    "        def wrapper(*args, **kwargs):\n",
    "            print(message.format(function=function, args=args, kwargs=kwargs))\n",
    "            return function(*args, **kwargs)\n",
    "        return wrapper\n",
    "    return decorator"
   ]
  },
  {
   "cell_type": "code",
   "execution_count": null,
   "metadata": {},
   "outputs": [],
   "source": [
    "@document(\"Calling {function.__name__} with {args} and {kwargs}\")\n",
    "def print_string(thestring):\n",
    "    print(thestring)\n",
    "\n",
    "print_string(\"foo\")"
   ]
  },
  {
   "cell_type": "code",
   "execution_count": null,
   "metadata": {},
   "outputs": [],
   "source": [
    "from functools import wraps\n",
    "\n",
    "def document(msg):\n",
    "    def decorator(func):\n",
    "        @wraps(func)\n",
    "        def wrapper(*args, **kwargs):\n",
    "            print(msg.format(function=func, args=args, kwargs=kwargs))\n",
    "            return func(*args, **kwargs)\n",
    "        return wrapper\n",
    "    return decorator"
   ]
  },
  {
   "cell_type": "code",
   "execution_count": null,
   "metadata": {
    "scrolled": false
   },
   "outputs": [],
   "source": [
    "@document(\"Calling {function.__name__}(*{args}, **{kwargs})\")\n",
    "def print_string(thestring):\n",
    "    \"This is my excellent docstring\"\n",
    "    print('I am printing', thestring)\n",
    "\n",
    "print_string(thestring='something else')"
   ]
  },
  {
   "cell_type": "code",
   "execution_count": null,
   "metadata": {},
   "outputs": [],
   "source": [
    "print_string('positional')"
   ]
  },
  {
   "cell_type": "code",
   "execution_count": null,
   "metadata": {
    "scrolled": false
   },
   "outputs": [],
   "source": [
    "the_decorator = document(\"Calling {function.__name__} with {args} and {kwargs}\")\n",
    "@the_decorator\n",
    "def print_string(thestring):\n",
    "    \"This is my excellent docstring\"\n",
    "    print(thestring)\n",
    "\n",
    "print_string(thestring=\"foo\")"
   ]
  },
  {
   "cell_type": "code",
   "execution_count": null,
   "metadata": {},
   "outputs": [],
   "source": [
    "help(print_string)"
   ]
  },
  {
   "cell_type": "code",
   "execution_count": null,
   "metadata": {},
   "outputs": [],
   "source": [
    "print_string??"
   ]
  },
  {
   "cell_type": "markdown",
   "metadata": {},
   "source": [
    "## Timing\n",
    "\n",
    "Suppose we want to instrument some code in production so that it records its cumulative elapsed time:\n",
    "\n",
    "```python\n",
    "import time\n",
    "timers = {}\n",
    "\n",
    "@keeptime(timers, 'foo')\n",
    "def sleep_a_while():\n",
    "    time.sleep(0.2)\n",
    "\n",
    "for i in range(10):\n",
    "    sleep_a_while()\n",
    "    \n",
    "print(timers)\n",
    "```\n",
    "\n",
    "we would want to get an output similar to `{'foo': 2.02}`. \n",
    "\n",
    "Write the `keeptime` decorator, keeping in mind\n",
    "- you can get the current time with `time.time()` (in seconds since 00:00 Jan 1, 1970)"
   ]
  },
  {
   "cell_type": "code",
   "execution_count": 11,
   "metadata": {},
   "outputs": [],
   "source": [
    "def keeptime(timer_dict, timer_name):\n",
    "    timer_dict.setdefault(timer_name, 0)\n",
    "    def decorator(function):\n",
    "        def wrapper(*args, **kwargs):\n",
    "            started = time.time()\n",
    "            try:\n",
    "                return function(*args, **kwargs)\n",
    "            finally:\n",
    "                ended = time.time()\n",
    "                elapsed = ended-started\n",
    "                timer_dict[timer_name] += elapsed\n",
    "        return wrapper\n",
    "    return decorator"
   ]
  },
  {
   "cell_type": "code",
   "execution_count": 12,
   "metadata": {},
   "outputs": [
    {
     "name": "stdout",
     "output_type": "stream",
     "text": [
      "{'foo': 2.0039525032043457}\n"
     ]
    }
   ],
   "source": [
    "import time\n",
    "\n",
    "timers = {}\n",
    "\n",
    "@keeptime(timers, 'foo')\n",
    "def sleep_a_while():\n",
    "    time.sleep(0.2)\n",
    "    \n",
    "for i in range(10):\n",
    "    sleep_a_while()\n",
    "\n",
    "print(timers)"
   ]
  },
  {
   "cell_type": "code",
   "execution_count": 13,
   "metadata": {},
   "outputs": [],
   "source": [
    "from functools import wraps\n",
    "\n",
    "def keeptime(timer_dict, timer_name):\n",
    "#     if timer_name not in timer_dict:\n",
    "#         timer_dict[timer_name] = 0\n",
    "    timer_dict.setdefault(timer_name, 0)\n",
    "    def decorator(func):\n",
    "        @wraps(func)\n",
    "        def wrapper(*args, **kwargs):\n",
    "            start = time.time()\n",
    "            try:\n",
    "                return func(*args, **kwargs)\n",
    "            finally:\n",
    "                elapsed = time.time() - start\n",
    "                timer_dict[timer_name] += elapsed\n",
    "        return wrapper\n",
    "    return decorator"
   ]
  },
  {
   "cell_type": "code",
   "execution_count": 14,
   "metadata": {
    "scrolled": true
   },
   "outputs": [
    {
     "name": "stdout",
     "output_type": "stream",
     "text": [
      "{'foo': 2.0036423206329346}\n"
     ]
    }
   ],
   "source": [
    "import time\n",
    "timers = {}\n",
    "\n",
    "@keeptime(timers, 'foo')\n",
    "def sleep_a_while():\n",
    "    'Docstring'\n",
    "    time.sleep(0.2)\n",
    "\n",
    "for i in range(10):\n",
    "    sleep_a_while()\n",
    "    \n",
    "print(timers)"
   ]
  },
  {
   "cell_type": "code",
   "execution_count": 15,
   "metadata": {},
   "outputs": [
    {
     "name": "stdout",
     "output_type": "stream",
     "text": [
      "Help on function sleep_a_while in module __main__:\n",
      "\n",
      "sleep_a_while()\n",
      "    Docstring\n",
      "\n"
     ]
    }
   ],
   "source": [
    "help(sleep_a_while)"
   ]
  },
  {
   "cell_type": "code",
   "execution_count": 16,
   "metadata": {},
   "outputs": [
    {
     "data": {
      "text/plain": [
       "<function __main__.sleep_a_while()>"
      ]
     },
     "execution_count": 16,
     "metadata": {},
     "output_type": "execute_result"
    }
   ],
   "source": [
    "sleep_a_while"
   ]
  },
  {
   "cell_type": "markdown",
   "metadata": {},
   "source": [
    "## These solutions were 'extra credit'"
   ]
  },
  {
   "cell_type": "code",
   "execution_count": 17,
   "metadata": {},
   "outputs": [],
   "source": [
    "def keeptime(timer_ctr, timer_name):\n",
    "    def decorator(func):\n",
    "        @wraps(func)\n",
    "        def wrapper(*args, **kwargs):\n",
    "            now = time.time()\n",
    "            try:\n",
    "                return func(*args, **kwargs)\n",
    "            finally:\n",
    "                elapsed = time.time() - now\n",
    "                timer_ctr[timer_name] += elapsed\n",
    "        return wrapper\n",
    "    return decorator"
   ]
  },
  {
   "cell_type": "code",
   "execution_count": 18,
   "metadata": {},
   "outputs": [
    {
     "name": "stdout",
     "output_type": "stream",
     "text": [
      "Counter({'foo': 2.0037953853607178, 'bar': 2.0036587715148926})\n"
     ]
    }
   ],
   "source": [
    "import time\n",
    "from collections import Counter\n",
    "timers = Counter()\n",
    "\n",
    "@keeptime(timers, 'foo')\n",
    "@keeptime(timers, 'bar')\n",
    "def sleep_a_while():\n",
    "    time.sleep(0.2)\n",
    "\n",
    "for i in range(10):\n",
    "    sleep_a_while()\n",
    "    \n",
    "print(timers)"
   ]
  },
  {
   "cell_type": "code",
   "execution_count": null,
   "metadata": {},
   "outputs": [],
   "source": [
    "@deco_name(...)  # decorator factory\n",
    "@deco_name       # decorator"
   ]
  },
  {
   "cell_type": "markdown",
   "metadata": {},
   "source": [
    "# Function attribute for elapsed time?"
   ]
  },
  {
   "cell_type": "code",
   "execution_count": 19,
   "metadata": {},
   "outputs": [],
   "source": [
    "def attr_keeptime(func):\n",
    "    @wraps(func)\n",
    "    def wrapper(*args, **kwargs):\n",
    "        now = time.time()\n",
    "        try:\n",
    "            return func(*args, **kwargs)\n",
    "        finally:\n",
    "            elapsed = time.time() - now\n",
    "            wrapper._timer += elapsed\n",
    "    wrapper._timer = 0\n",
    "    return wrapper\n"
   ]
  },
  {
   "cell_type": "code",
   "execution_count": 20,
   "metadata": {},
   "outputs": [
    {
     "name": "stdout",
     "output_type": "stream",
     "text": [
      "2.0042502880096436\n"
     ]
    }
   ],
   "source": [
    "import time\n",
    "\n",
    "@attr_keeptime\n",
    "def sleep_a_while():\n",
    "    time.sleep(0.2)   \n",
    "#sleep_a_while = attr_keeptime(sleep_a_while)\n",
    "\n",
    "for i in range(10):\n",
    "    sleep_a_while()\n",
    "    \n",
    "print(sleep_a_while._timer)"
   ]
  },
  {
   "cell_type": "code",
   "execution_count": null,
   "metadata": {},
   "outputs": [],
   "source": []
  }
 ],
 "metadata": {
  "kernelspec": {
   "display_name": "Python 3",
   "language": "python",
   "name": "python3"
  },
  "language_info": {
   "codemirror_mode": {
    "name": "ipython",
    "version": 3
   },
   "file_extension": ".py",
   "mimetype": "text/x-python",
   "name": "python",
   "nbconvert_exporter": "python",
   "pygments_lexer": "ipython3",
   "version": "3.8.5"
  }
 },
 "nbformat": 4,
 "nbformat_minor": 2
}
